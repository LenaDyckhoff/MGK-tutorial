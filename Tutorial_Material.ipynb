{
  "cells": [
    {
      "cell_type": "markdown",
      "source": [
        "# 1. Read data & preprocessing\n"
      ],
      "metadata": {
        "id": "B4HxezMlkc48"
      }
    },
    {
      "cell_type": "markdown",
      "metadata": {
        "id": "f2-mrJO_jYJO"
      },
      "source": [
        "First read the data points for the yield surface at 1% pl. strain from a file."
      ]
    },
    {
      "cell_type": "code",
      "execution_count": null,
      "metadata": {
        "colab": {
          "base_uri": "https://localhost:8080/"
        },
        "id": "IqXI9dJEjYJT",
        "outputId": "7441a53c-140d-4a10-9384-8824c6552ea2"
      },
      "outputs": [
        {
          "output_type": "stream",
          "name": "stdout",
          "text": [
            "         sxx       syy  szz  sxy  sxz  syz  plstrain  yieldstress  yieldstrain\n",
            "0   1.000000  0.000000  0.0  0.0  0.0  0.0  0.011288     24.46130     0.018830\n",
            "1   0.988327  0.152347  0.0  0.0 -0.0  0.0  0.011288     25.71276     0.018539\n",
            "2   0.872494  0.488625  0.0  0.0  0.0  0.0  0.011288     27.23057     0.017736\n",
            "3   0.759519  0.650486  0.0  0.0  0.0  0.0  0.011288     27.98890     0.017620\n",
            "4   0.611597  0.791170  0.0  0.0 -0.0  0.0  0.011288     27.73948     0.017607\n",
            "5   0.446362  0.894852  0.0  0.0  0.0  0.0  0.011288     27.09142     0.017819\n",
            "6   0.274600  0.961558  0.0  0.0 -0.0  0.0  0.011288     26.39518     0.018224\n",
            "7   0.112314  0.993673  0.0  0.0  0.0  0.0  0.011288     25.44624     0.018632\n",
            "8  -0.035895  0.999356  0.0 -0.0  0.0  0.0  0.011288     24.24060     0.018917\n",
            "9  -0.177063  0.984199  0.0 -0.0  0.0  0.0  0.011288     23.26691     0.019154\n",
            "10 -0.315646  0.948877  0.0 -0.0  0.0  0.0  0.011288     22.69252     0.019379\n",
            "11 -0.457524  0.889197  0.0 -0.0  0.0  0.0  0.011288     21.75982     0.019310\n",
            "12 -0.599905  0.800072  0.0 -0.0  0.0  0.0  0.011288     21.14715     0.019187\n",
            "13 -0.737058  0.675829  0.0 -0.0  0.0  0.0  0.011288     21.23376     0.019161\n",
            "14 -0.857229  0.514936  0.0 -0.0 -0.0  0.0  0.011288     21.88960     0.019181\n",
            "15 -0.947680  0.319223  0.0 -0.0  0.0  0.0  0.011288     22.36920     0.018975\n",
            "16 -0.994246  0.107122  0.0 -0.0  0.0  0.0  0.011288     23.05742     0.018697\n",
            "17 -0.994640 -0.103403  0.0  0.0  0.0  0.0  0.011288     24.08383     0.018406\n",
            "18 -0.956289 -0.292423  0.0  0.0  0.0  0.0  0.011288     25.41295     0.018129\n",
            "19 -0.888373 -0.459122  0.0  0.0 -0.0  0.0  0.011288     26.47800     0.017801\n",
            "20 -0.800534 -0.599287  0.0  0.0  0.0  0.0  0.011288     27.20087     0.017548\n",
            "21 -0.692903 -0.721031  0.0  0.0  0.0  0.0  0.011288     27.77114     0.017550\n",
            "22 -0.567052 -0.823682  0.0  0.0  0.0  0.0  0.011288     27.00394     0.017585\n",
            "23 -0.419669 -0.907677  0.0  0.0  0.0  0.0  0.011288     26.33182     0.017904\n",
            "24 -0.247315 -0.968935  0.0  0.0  0.0  0.0  0.011288     25.14484     0.018219\n",
            "25 -0.052393 -0.998627  0.0  0.0  0.0  0.0  0.011288     23.78162     0.018474\n",
            "26  0.161016 -0.986952  0.0 -0.0  0.0  0.0  0.011288     22.78401     0.018745\n",
            "27  0.371069 -0.928605  0.0 -0.0 -0.0  0.0  0.011288     22.29491     0.019057\n",
            "28  0.557531 -0.830156  0.0 -0.0  0.0  0.0  0.011288     21.73139     0.019194\n",
            "29  0.710382 -0.703816  0.0 -0.0 -0.0  0.0  0.011288     21.14619     0.019158\n",
            "30  0.825445 -0.564482  0.0 -0.0  0.0  0.0  0.011288     21.23419     0.019209\n",
            "31  0.906564 -0.422068  0.0 -0.0  0.0  0.0  0.011288     22.00673     0.019349\n",
            "32  0.959430 -0.281945  0.0 -0.0 -0.0  0.0  0.011288     22.87595     0.019352\n",
            "33  0.989903 -0.141749  0.0 -0.0 -0.0  0.0  0.011288     23.46353     0.019093\n",
            "34  1.000000  0.000000  0.0  0.0  0.0  0.0  0.011288     24.46130     0.018830\n"
          ]
        }
      ],
      "source": [
        "import pandas as pd\n",
        "column_names = ['sxx', 'syy', 'szz',\n",
        "                'sxy', 'sxz', 'syz',\n",
        "                'plstrain', 'yieldstress',\n",
        "                'yieldstrain']\n",
        "data = pd.read_csv(('data_0_35_0.011288.txt'),\n",
        "                   skiprows= [0,1,4],\n",
        "                   sep = '\\t',\n",
        "                   names = column_names,\n",
        "                   index_col=False)\n",
        "print(data)"
      ]
    },
    {
      "cell_type": "markdown",
      "metadata": {
        "id": "ki_7Ehm6jYJW"
      },
      "source": [
        "Duplicate values in the data set have to be removed to ensure that the same data set can not be included in training and test sets. Additionaly, it avoids emphasising certain data sets during training."
      ]
    },
    {
      "cell_type": "code",
      "execution_count": null,
      "metadata": {
        "id": "U96LYT3VjYJX",
        "colab": {
          "base_uri": "https://localhost:8080/"
        },
        "outputId": "da513134-94fa-4bc5-bc81-36fb1672cb20"
      },
      "outputs": [
        {
          "output_type": "stream",
          "name": "stdout",
          "text": [
            "         sxx       syy  szz  sxy  sxz  syz  plstrain  yieldstress  yieldstrain\n",
            "0   1.000000  0.000000  0.0  0.0  0.0  0.0  0.011288     24.46130     0.018830\n",
            "1   0.988327  0.152347  0.0  0.0 -0.0  0.0  0.011288     25.71276     0.018539\n",
            "2   0.872494  0.488625  0.0  0.0  0.0  0.0  0.011288     27.23057     0.017736\n",
            "3   0.759519  0.650486  0.0  0.0  0.0  0.0  0.011288     27.98890     0.017620\n",
            "4   0.611597  0.791170  0.0  0.0 -0.0  0.0  0.011288     27.73948     0.017607\n",
            "5   0.446362  0.894852  0.0  0.0  0.0  0.0  0.011288     27.09142     0.017819\n",
            "6   0.274600  0.961558  0.0  0.0 -0.0  0.0  0.011288     26.39518     0.018224\n",
            "7   0.112314  0.993673  0.0  0.0  0.0  0.0  0.011288     25.44624     0.018632\n",
            "8  -0.035895  0.999356  0.0 -0.0  0.0  0.0  0.011288     24.24060     0.018917\n",
            "9  -0.177063  0.984199  0.0 -0.0  0.0  0.0  0.011288     23.26691     0.019154\n",
            "10 -0.315646  0.948877  0.0 -0.0  0.0  0.0  0.011288     22.69252     0.019379\n",
            "11 -0.457524  0.889197  0.0 -0.0  0.0  0.0  0.011288     21.75982     0.019310\n",
            "12 -0.599905  0.800072  0.0 -0.0  0.0  0.0  0.011288     21.14715     0.019187\n",
            "13 -0.737058  0.675829  0.0 -0.0  0.0  0.0  0.011288     21.23376     0.019161\n",
            "14 -0.857229  0.514936  0.0 -0.0 -0.0  0.0  0.011288     21.88960     0.019181\n",
            "15 -0.947680  0.319223  0.0 -0.0  0.0  0.0  0.011288     22.36920     0.018975\n",
            "16 -0.994246  0.107122  0.0 -0.0  0.0  0.0  0.011288     23.05742     0.018697\n",
            "17 -0.994640 -0.103403  0.0  0.0  0.0  0.0  0.011288     24.08383     0.018406\n",
            "18 -0.956289 -0.292423  0.0  0.0  0.0  0.0  0.011288     25.41295     0.018129\n",
            "19 -0.888373 -0.459122  0.0  0.0 -0.0  0.0  0.011288     26.47800     0.017801\n",
            "20 -0.800534 -0.599287  0.0  0.0  0.0  0.0  0.011288     27.20087     0.017548\n",
            "21 -0.692903 -0.721031  0.0  0.0  0.0  0.0  0.011288     27.77114     0.017550\n",
            "22 -0.567052 -0.823682  0.0  0.0  0.0  0.0  0.011288     27.00394     0.017585\n",
            "23 -0.419669 -0.907677  0.0  0.0  0.0  0.0  0.011288     26.33182     0.017904\n",
            "24 -0.247315 -0.968935  0.0  0.0  0.0  0.0  0.011288     25.14484     0.018219\n",
            "25 -0.052393 -0.998627  0.0  0.0  0.0  0.0  0.011288     23.78162     0.018474\n",
            "26  0.161016 -0.986952  0.0 -0.0  0.0  0.0  0.011288     22.78401     0.018745\n",
            "27  0.371069 -0.928605  0.0 -0.0 -0.0  0.0  0.011288     22.29491     0.019057\n",
            "28  0.557531 -0.830156  0.0 -0.0  0.0  0.0  0.011288     21.73139     0.019194\n",
            "29  0.710382 -0.703816  0.0 -0.0 -0.0  0.0  0.011288     21.14619     0.019158\n",
            "30  0.825445 -0.564482  0.0 -0.0  0.0  0.0  0.011288     21.23419     0.019209\n",
            "31  0.906564 -0.422068  0.0 -0.0  0.0  0.0  0.011288     22.00673     0.019349\n",
            "32  0.959430 -0.281945  0.0 -0.0 -0.0  0.0  0.011288     22.87595     0.019352\n",
            "33  0.989903 -0.141749  0.0 -0.0 -0.0  0.0  0.011288     23.46353     0.019093\n"
          ]
        }
      ],
      "source": [
        "data = data.drop_duplicates()\n",
        "\n",
        "print(data)"
      ]
    },
    {
      "cell_type": "markdown",
      "metadata": {
        "id": "I7TzEky0jYJY"
      },
      "source": [
        "The stress components ('sxx', 'syy') in the data set are given as unit stress vectors, such that their Forbenius norm is 1. To get the componenets ('sigYx', 'sigYy') that describe the point on the yield surface, they have to be scaled with the given yield stress in column 'Y_test'. They are saved as a new column in the dataFrame."
      ]
    },
    {
      "cell_type": "code",
      "execution_count": null,
      "metadata": {
        "id": "Krl6qE8NjYJa",
        "colab": {
          "base_uri": "https://localhost:8080/"
        },
        "outputId": "06f248ac-575e-49f0-ba1b-0d203131d9ce"
      },
      "outputs": [
        {
          "output_type": "stream",
          "name": "stdout",
          "text": [
            "         sxx       syy  szz  sxy  sxz  syz  plstrain  yieldstress  \\\n",
            "0   1.000000  0.000000  0.0  0.0  0.0  0.0  0.011288     24.46130   \n",
            "1   0.988327  0.152347  0.0  0.0 -0.0  0.0  0.011288     25.71276   \n",
            "2   0.872494  0.488625  0.0  0.0  0.0  0.0  0.011288     27.23057   \n",
            "3   0.759519  0.650486  0.0  0.0  0.0  0.0  0.011288     27.98890   \n",
            "4   0.611597  0.791170  0.0  0.0 -0.0  0.0  0.011288     27.73948   \n",
            "5   0.446362  0.894852  0.0  0.0  0.0  0.0  0.011288     27.09142   \n",
            "6   0.274600  0.961558  0.0  0.0 -0.0  0.0  0.011288     26.39518   \n",
            "7   0.112314  0.993673  0.0  0.0  0.0  0.0  0.011288     25.44624   \n",
            "8  -0.035895  0.999356  0.0 -0.0  0.0  0.0  0.011288     24.24060   \n",
            "9  -0.177063  0.984199  0.0 -0.0  0.0  0.0  0.011288     23.26691   \n",
            "10 -0.315646  0.948877  0.0 -0.0  0.0  0.0  0.011288     22.69252   \n",
            "11 -0.457524  0.889197  0.0 -0.0  0.0  0.0  0.011288     21.75982   \n",
            "12 -0.599905  0.800072  0.0 -0.0  0.0  0.0  0.011288     21.14715   \n",
            "13 -0.737058  0.675829  0.0 -0.0  0.0  0.0  0.011288     21.23376   \n",
            "14 -0.857229  0.514936  0.0 -0.0 -0.0  0.0  0.011288     21.88960   \n",
            "15 -0.947680  0.319223  0.0 -0.0  0.0  0.0  0.011288     22.36920   \n",
            "16 -0.994246  0.107122  0.0 -0.0  0.0  0.0  0.011288     23.05742   \n",
            "17 -0.994640 -0.103403  0.0  0.0  0.0  0.0  0.011288     24.08383   \n",
            "18 -0.956289 -0.292423  0.0  0.0  0.0  0.0  0.011288     25.41295   \n",
            "19 -0.888373 -0.459122  0.0  0.0 -0.0  0.0  0.011288     26.47800   \n",
            "20 -0.800534 -0.599287  0.0  0.0  0.0  0.0  0.011288     27.20087   \n",
            "21 -0.692903 -0.721031  0.0  0.0  0.0  0.0  0.011288     27.77114   \n",
            "22 -0.567052 -0.823682  0.0  0.0  0.0  0.0  0.011288     27.00394   \n",
            "23 -0.419669 -0.907677  0.0  0.0  0.0  0.0  0.011288     26.33182   \n",
            "24 -0.247315 -0.968935  0.0  0.0  0.0  0.0  0.011288     25.14484   \n",
            "25 -0.052393 -0.998627  0.0  0.0  0.0  0.0  0.011288     23.78162   \n",
            "26  0.161016 -0.986952  0.0 -0.0  0.0  0.0  0.011288     22.78401   \n",
            "27  0.371069 -0.928605  0.0 -0.0 -0.0  0.0  0.011288     22.29491   \n",
            "28  0.557531 -0.830156  0.0 -0.0  0.0  0.0  0.011288     21.73139   \n",
            "29  0.710382 -0.703816  0.0 -0.0 -0.0  0.0  0.011288     21.14619   \n",
            "30  0.825445 -0.564482  0.0 -0.0  0.0  0.0  0.011288     21.23419   \n",
            "31  0.906564 -0.422068  0.0 -0.0  0.0  0.0  0.011288     22.00673   \n",
            "32  0.959430 -0.281945  0.0 -0.0 -0.0  0.0  0.011288     22.87595   \n",
            "33  0.989903 -0.141749  0.0 -0.0 -0.0  0.0  0.011288     23.46353   \n",
            "\n",
            "    yieldstrain      sigYx      sigYy  \n",
            "0      0.018830  24.461300   0.000000  \n",
            "1      0.018539  25.412615   3.917262  \n",
            "2      0.017736  23.758509  13.305537  \n",
            "3      0.017620  21.258101  18.206388  \n",
            "4      0.017607  16.965383  21.946644  \n",
            "5      0.017819  12.092580  24.242811  \n",
            "6      0.018224   7.248116  25.380496  \n",
            "7      0.018632   2.857969  25.285242  \n",
            "8      0.018917  -0.870116  24.224989  \n",
            "9      0.019154  -4.119709  22.899270  \n",
            "10     0.019379  -7.162803  21.532410  \n",
            "11     0.019310  -9.955640  19.348767  \n",
            "12     0.019187 -12.686281  16.919243  \n",
            "13     0.019161 -15.650513  14.350391  \n",
            "14     0.019181 -18.764400  11.271743  \n",
            "15     0.018975 -21.198843   7.140763  \n",
            "16     0.018697 -22.924748   2.469957  \n",
            "17     0.018406 -23.954741  -2.490340  \n",
            "18     0.018129 -24.302125  -7.431331  \n",
            "19     0.017801 -23.522340 -12.156632  \n",
            "20     0.017548 -21.775221 -16.301128  \n",
            "21     0.017550 -19.242706 -20.023853  \n",
            "22     0.017585 -15.312638 -22.242659  \n",
            "23     0.017904 -11.050649 -23.900787  \n",
            "24     0.018219  -6.218696 -24.363716  \n",
            "25     0.018474  -1.245990 -23.748968  \n",
            "26     0.018745   3.668590 -22.486724  \n",
            "27     0.019057   8.272950 -20.703165  \n",
            "28     0.019194  12.115924 -18.040444  \n",
            "29     0.019158  15.021873 -14.883027  \n",
            "30     0.019209  17.527656 -11.986318  \n",
            "31     0.019349  19.950509  -9.288337  \n",
            "32     0.019352  21.947873  -6.449760  \n",
            "33     0.019093  23.226619  -3.325932  \n"
          ]
        },
        {
          "output_type": "stream",
          "name": "stderr",
          "text": [
            "<ipython-input-23-94dedb727cf7>:1: SettingWithCopyWarning:\n",
            "\n",
            "\n",
            "A value is trying to be set on a copy of a slice from a DataFrame.\n",
            "Try using .loc[row_indexer,col_indexer] = value instead\n",
            "\n",
            "See the caveats in the documentation: https://pandas.pydata.org/pandas-docs/stable/user_guide/indexing.html#returning-a-view-versus-a-copy\n",
            "\n"
          ]
        }
      ],
      "source": [
        "data['sigYx'] = data['yieldstress']*data['sxx'] \n",
        "data['sigYy'] = data['yieldstress']*data['syy']\n",
        "print(data)"
      ]
    },
    {
      "cell_type": "markdown",
      "source": [
        "# 2. Visualise Data"
      ],
      "metadata": {
        "id": "vk9krC1KkrqH"
      }
    },
    {
      "cell_type": "markdown",
      "metadata": {
        "id": "aMfbgrUtjYJc"
      },
      "source": [
        "Let's see how the yield surface looks like. Therefore we're plotting the 'sigYy' vs the 'sigYx' component. You visualise the yield stress, when you hover over a point in the resulting plot. "
      ]
    },
    {
      "cell_type": "code",
      "execution_count": null,
      "metadata": {
        "id": "_8IzuH40jYJf",
        "colab": {
          "base_uri": "https://localhost:8080/",
          "height": 517
        },
        "outputId": "ede16b84-124d-48b9-d2b6-014cb7efb28d"
      },
      "outputs": [
        {
          "output_type": "display_data",
          "data": {
            "text/html": [
              "<html>\n",
              "<head><meta charset=\"utf-8\" /></head>\n",
              "<body>\n",
              "    <div>            <script src=\"https://cdnjs.cloudflare.com/ajax/libs/mathjax/2.7.5/MathJax.js?config=TeX-AMS-MML_SVG\"></script><script type=\"text/javascript\">if (window.MathJax && window.MathJax.Hub && window.MathJax.Hub.Config) {window.MathJax.Hub.Config({SVG: {font: \"STIX-Web\"}});}</script>                <script type=\"text/javascript\">window.PlotlyConfig = {MathJaxConfig: 'local'};</script>\n",
              "        <script src=\"https://cdn.plot.ly/plotly-2.18.2.min.js\"></script>                <div id=\"01fce230-7ce1-4c61-8ee5-61318f97307b\" class=\"plotly-graph-div\" style=\"height:500px; width:550px;\"></div>            <script type=\"text/javascript\">                                    window.PLOTLYENV=window.PLOTLYENV || {};                                    if (document.getElementById(\"01fce230-7ce1-4c61-8ee5-61318f97307b\")) {                    Plotly.newPlot(                        \"01fce230-7ce1-4c61-8ee5-61318f97307b\",                        [{\"customdata\":[[24.4613],[25.71276],[27.23057],[27.9889],[27.73948],[27.09142],[26.39518],[25.44624],[24.2406],[23.26691],[22.69252],[21.75982],[21.14715],[21.23376],[21.8896],[22.3692],[23.05742],[24.08383],[25.41295],[26.478],[27.20087],[27.77114],[27.00394],[26.33182],[25.14484],[23.78162],[22.78401],[22.29491],[21.73139],[21.14619],[21.23419],[22.00673],[22.87595],[23.46353]],\"hovertemplate\":\"sigYx=%{x}<br>sigYy=%{y}<br>yieldstress=%{customdata[0]}<extra></extra>\",\"legendgroup\":\"\",\"marker\":{\"color\":\"green\",\"symbol\":\"circle\"},\"mode\":\"markers\",\"name\":\"\",\"orientation\":\"v\",\"showlegend\":false,\"x\":[24.4613,25.41261495252,23.75850894158,21.2581013391,16.96538274956,12.092580414039999,7.248116428,2.8579689993599997,-0.8701163370000001,-4.11970888533,-7.162803167919999,-9.95563988568,-12.68628102075,-15.65051267808,-18.764399918400002,-21.198843456,-22.92474760532,-23.9547406712,-24.302124542549997,-23.522340294,-21.775221264579997,-19.24270621942,-15.31263818488,-11.05064856758,-6.2186961046,-1.24599041666,3.6685901541599995,8.27294995879,12.115923598090001,15.02187274458,17.52765596455,19.95050917572,21.9478727085,23.226618737589998],\"xaxis\":\"x\",\"y\":[0.0,3.9172618477200003,13.305537266249999,18.2063876054,21.946644391600003,24.24281136984,25.38049649044,25.28524163952,24.2249890536,22.89926955509,21.53241030004,19.34876666454,16.9192425948,14.35039078704,11.271743065599999,7.140763131599999,2.46995694524,-2.4903402734899998,-7.4313310778499995,-12.156632316,-16.30112777969,-20.02385284534,-22.24265930708,-23.90078738214,-24.363715545399998,-23.74896783574,-22.48672423752,-20.70316490055,-18.04044379684,-14.883026861040001,-11.986318039580002,-9.288336517640001,-6.44975972275,-3.3259319139700003],\"yaxis\":\"y\",\"type\":\"scatter\"}],                        {\"template\":{\"data\":{\"histogram2dcontour\":[{\"type\":\"histogram2dcontour\",\"colorbar\":{\"outlinewidth\":0,\"ticks\":\"\"},\"colorscale\":[[0.0,\"#0d0887\"],[0.1111111111111111,\"#46039f\"],[0.2222222222222222,\"#7201a8\"],[0.3333333333333333,\"#9c179e\"],[0.4444444444444444,\"#bd3786\"],[0.5555555555555556,\"#d8576b\"],[0.6666666666666666,\"#ed7953\"],[0.7777777777777778,\"#fb9f3a\"],[0.8888888888888888,\"#fdca26\"],[1.0,\"#f0f921\"]]}],\"choropleth\":[{\"type\":\"choropleth\",\"colorbar\":{\"outlinewidth\":0,\"ticks\":\"\"}}],\"histogram2d\":[{\"type\":\"histogram2d\",\"colorbar\":{\"outlinewidth\":0,\"ticks\":\"\"},\"colorscale\":[[0.0,\"#0d0887\"],[0.1111111111111111,\"#46039f\"],[0.2222222222222222,\"#7201a8\"],[0.3333333333333333,\"#9c179e\"],[0.4444444444444444,\"#bd3786\"],[0.5555555555555556,\"#d8576b\"],[0.6666666666666666,\"#ed7953\"],[0.7777777777777778,\"#fb9f3a\"],[0.8888888888888888,\"#fdca26\"],[1.0,\"#f0f921\"]]}],\"heatmap\":[{\"type\":\"heatmap\",\"colorbar\":{\"outlinewidth\":0,\"ticks\":\"\"},\"colorscale\":[[0.0,\"#0d0887\"],[0.1111111111111111,\"#46039f\"],[0.2222222222222222,\"#7201a8\"],[0.3333333333333333,\"#9c179e\"],[0.4444444444444444,\"#bd3786\"],[0.5555555555555556,\"#d8576b\"],[0.6666666666666666,\"#ed7953\"],[0.7777777777777778,\"#fb9f3a\"],[0.8888888888888888,\"#fdca26\"],[1.0,\"#f0f921\"]]}],\"heatmapgl\":[{\"type\":\"heatmapgl\",\"colorbar\":{\"outlinewidth\":0,\"ticks\":\"\"},\"colorscale\":[[0.0,\"#0d0887\"],[0.1111111111111111,\"#46039f\"],[0.2222222222222222,\"#7201a8\"],[0.3333333333333333,\"#9c179e\"],[0.4444444444444444,\"#bd3786\"],[0.5555555555555556,\"#d8576b\"],[0.6666666666666666,\"#ed7953\"],[0.7777777777777778,\"#fb9f3a\"],[0.8888888888888888,\"#fdca26\"],[1.0,\"#f0f921\"]]}],\"contourcarpet\":[{\"type\":\"contourcarpet\",\"colorbar\":{\"outlinewidth\":0,\"ticks\":\"\"}}],\"contour\":[{\"type\":\"contour\",\"colorbar\":{\"outlinewidth\":0,\"ticks\":\"\"},\"colorscale\":[[0.0,\"#0d0887\"],[0.1111111111111111,\"#46039f\"],[0.2222222222222222,\"#7201a8\"],[0.3333333333333333,\"#9c179e\"],[0.4444444444444444,\"#bd3786\"],[0.5555555555555556,\"#d8576b\"],[0.6666666666666666,\"#ed7953\"],[0.7777777777777778,\"#fb9f3a\"],[0.8888888888888888,\"#fdca26\"],[1.0,\"#f0f921\"]]}],\"surface\":[{\"type\":\"surface\",\"colorbar\":{\"outlinewidth\":0,\"ticks\":\"\"},\"colorscale\":[[0.0,\"#0d0887\"],[0.1111111111111111,\"#46039f\"],[0.2222222222222222,\"#7201a8\"],[0.3333333333333333,\"#9c179e\"],[0.4444444444444444,\"#bd3786\"],[0.5555555555555556,\"#d8576b\"],[0.6666666666666666,\"#ed7953\"],[0.7777777777777778,\"#fb9f3a\"],[0.8888888888888888,\"#fdca26\"],[1.0,\"#f0f921\"]]}],\"mesh3d\":[{\"type\":\"mesh3d\",\"colorbar\":{\"outlinewidth\":0,\"ticks\":\"\"}}],\"scatter\":[{\"fillpattern\":{\"fillmode\":\"overlay\",\"size\":10,\"solidity\":0.2},\"type\":\"scatter\"}],\"parcoords\":[{\"type\":\"parcoords\",\"line\":{\"colorbar\":{\"outlinewidth\":0,\"ticks\":\"\"}}}],\"scatterpolargl\":[{\"type\":\"scatterpolargl\",\"marker\":{\"colorbar\":{\"outlinewidth\":0,\"ticks\":\"\"}}}],\"bar\":[{\"error_x\":{\"color\":\"#2a3f5f\"},\"error_y\":{\"color\":\"#2a3f5f\"},\"marker\":{\"line\":{\"color\":\"#E5ECF6\",\"width\":0.5},\"pattern\":{\"fillmode\":\"overlay\",\"size\":10,\"solidity\":0.2}},\"type\":\"bar\"}],\"scattergeo\":[{\"type\":\"scattergeo\",\"marker\":{\"colorbar\":{\"outlinewidth\":0,\"ticks\":\"\"}}}],\"scatterpolar\":[{\"type\":\"scatterpolar\",\"marker\":{\"colorbar\":{\"outlinewidth\":0,\"ticks\":\"\"}}}],\"histogram\":[{\"marker\":{\"pattern\":{\"fillmode\":\"overlay\",\"size\":10,\"solidity\":0.2}},\"type\":\"histogram\"}],\"scattergl\":[{\"type\":\"scattergl\",\"marker\":{\"colorbar\":{\"outlinewidth\":0,\"ticks\":\"\"}}}],\"scatter3d\":[{\"type\":\"scatter3d\",\"line\":{\"colorbar\":{\"outlinewidth\":0,\"ticks\":\"\"}},\"marker\":{\"colorbar\":{\"outlinewidth\":0,\"ticks\":\"\"}}}],\"scattermapbox\":[{\"type\":\"scattermapbox\",\"marker\":{\"colorbar\":{\"outlinewidth\":0,\"ticks\":\"\"}}}],\"scatterternary\":[{\"type\":\"scatterternary\",\"marker\":{\"colorbar\":{\"outlinewidth\":0,\"ticks\":\"\"}}}],\"scattercarpet\":[{\"type\":\"scattercarpet\",\"marker\":{\"colorbar\":{\"outlinewidth\":0,\"ticks\":\"\"}}}],\"carpet\":[{\"aaxis\":{\"endlinecolor\":\"#2a3f5f\",\"gridcolor\":\"white\",\"linecolor\":\"white\",\"minorgridcolor\":\"white\",\"startlinecolor\":\"#2a3f5f\"},\"baxis\":{\"endlinecolor\":\"#2a3f5f\",\"gridcolor\":\"white\",\"linecolor\":\"white\",\"minorgridcolor\":\"white\",\"startlinecolor\":\"#2a3f5f\"},\"type\":\"carpet\"}],\"table\":[{\"cells\":{\"fill\":{\"color\":\"#EBF0F8\"},\"line\":{\"color\":\"white\"}},\"header\":{\"fill\":{\"color\":\"#C8D4E3\"},\"line\":{\"color\":\"white\"}},\"type\":\"table\"}],\"barpolar\":[{\"marker\":{\"line\":{\"color\":\"#E5ECF6\",\"width\":0.5},\"pattern\":{\"fillmode\":\"overlay\",\"size\":10,\"solidity\":0.2}},\"type\":\"barpolar\"}],\"pie\":[{\"automargin\":true,\"type\":\"pie\"}]},\"layout\":{\"autotypenumbers\":\"strict\",\"colorway\":[\"#636efa\",\"#EF553B\",\"#00cc96\",\"#ab63fa\",\"#FFA15A\",\"#19d3f3\",\"#FF6692\",\"#B6E880\",\"#FF97FF\",\"#FECB52\"],\"font\":{\"color\":\"#2a3f5f\"},\"hovermode\":\"closest\",\"hoverlabel\":{\"align\":\"left\"},\"paper_bgcolor\":\"white\",\"plot_bgcolor\":\"#E5ECF6\",\"polar\":{\"bgcolor\":\"#E5ECF6\",\"angularaxis\":{\"gridcolor\":\"white\",\"linecolor\":\"white\",\"ticks\":\"\"},\"radialaxis\":{\"gridcolor\":\"white\",\"linecolor\":\"white\",\"ticks\":\"\"}},\"ternary\":{\"bgcolor\":\"#E5ECF6\",\"aaxis\":{\"gridcolor\":\"white\",\"linecolor\":\"white\",\"ticks\":\"\"},\"baxis\":{\"gridcolor\":\"white\",\"linecolor\":\"white\",\"ticks\":\"\"},\"caxis\":{\"gridcolor\":\"white\",\"linecolor\":\"white\",\"ticks\":\"\"}},\"coloraxis\":{\"colorbar\":{\"outlinewidth\":0,\"ticks\":\"\"}},\"colorscale\":{\"sequential\":[[0.0,\"#0d0887\"],[0.1111111111111111,\"#46039f\"],[0.2222222222222222,\"#7201a8\"],[0.3333333333333333,\"#9c179e\"],[0.4444444444444444,\"#bd3786\"],[0.5555555555555556,\"#d8576b\"],[0.6666666666666666,\"#ed7953\"],[0.7777777777777778,\"#fb9f3a\"],[0.8888888888888888,\"#fdca26\"],[1.0,\"#f0f921\"]],\"sequentialminus\":[[0.0,\"#0d0887\"],[0.1111111111111111,\"#46039f\"],[0.2222222222222222,\"#7201a8\"],[0.3333333333333333,\"#9c179e\"],[0.4444444444444444,\"#bd3786\"],[0.5555555555555556,\"#d8576b\"],[0.6666666666666666,\"#ed7953\"],[0.7777777777777778,\"#fb9f3a\"],[0.8888888888888888,\"#fdca26\"],[1.0,\"#f0f921\"]],\"diverging\":[[0,\"#8e0152\"],[0.1,\"#c51b7d\"],[0.2,\"#de77ae\"],[0.3,\"#f1b6da\"],[0.4,\"#fde0ef\"],[0.5,\"#f7f7f7\"],[0.6,\"#e6f5d0\"],[0.7,\"#b8e186\"],[0.8,\"#7fbc41\"],[0.9,\"#4d9221\"],[1,\"#276419\"]]},\"xaxis\":{\"gridcolor\":\"white\",\"linecolor\":\"white\",\"ticks\":\"\",\"title\":{\"standoff\":15},\"zerolinecolor\":\"white\",\"automargin\":true,\"zerolinewidth\":2},\"yaxis\":{\"gridcolor\":\"white\",\"linecolor\":\"white\",\"ticks\":\"\",\"title\":{\"standoff\":15},\"zerolinecolor\":\"white\",\"automargin\":true,\"zerolinewidth\":2},\"scene\":{\"xaxis\":{\"backgroundcolor\":\"#E5ECF6\",\"gridcolor\":\"white\",\"linecolor\":\"white\",\"showbackground\":true,\"ticks\":\"\",\"zerolinecolor\":\"white\",\"gridwidth\":2},\"yaxis\":{\"backgroundcolor\":\"#E5ECF6\",\"gridcolor\":\"white\",\"linecolor\":\"white\",\"showbackground\":true,\"ticks\":\"\",\"zerolinecolor\":\"white\",\"gridwidth\":2},\"zaxis\":{\"backgroundcolor\":\"#E5ECF6\",\"gridcolor\":\"white\",\"linecolor\":\"white\",\"showbackground\":true,\"ticks\":\"\",\"zerolinecolor\":\"white\",\"gridwidth\":2}},\"shapedefaults\":{\"line\":{\"color\":\"#2a3f5f\"}},\"annotationdefaults\":{\"arrowcolor\":\"#2a3f5f\",\"arrowhead\":0,\"arrowwidth\":1},\"geo\":{\"bgcolor\":\"white\",\"landcolor\":\"#E5ECF6\",\"subunitcolor\":\"white\",\"showland\":true,\"showlakes\":true,\"lakecolor\":\"white\"},\"title\":{\"x\":0.05},\"mapbox\":{\"style\":\"light\"}}},\"xaxis\":{\"anchor\":\"y\",\"domain\":[0.0,1.0],\"title\":{\"text\":\"sigYx\"},\"tickvals\":[-20,-10,0,10,20]},\"yaxis\":{\"anchor\":\"x\",\"domain\":[0.0,1.0],\"title\":{\"text\":\"sigYy\"},\"tickvals\":[-20,-10,0,10,20]},\"legend\":{\"tracegroupgap\":0},\"margin\":{\"t\":60},\"height\":500,\"width\":550,\"autosize\":true},                        {\"responsive\": true}                    ).then(function(){\n",
              "                            \n",
              "var gd = document.getElementById('01fce230-7ce1-4c61-8ee5-61318f97307b');\n",
              "var x = new MutationObserver(function (mutations, observer) {{\n",
              "        var display = window.getComputedStyle(gd).display;\n",
              "        if (!display || display === 'none') {{\n",
              "            console.log([gd, 'removed!']);\n",
              "            Plotly.purge(gd);\n",
              "            observer.disconnect();\n",
              "        }}\n",
              "}});\n",
              "\n",
              "// Listen for the removal of the full notebook cells\n",
              "var notebookContainer = gd.closest('#notebook-container');\n",
              "if (notebookContainer) {{\n",
              "    x.observe(notebookContainer, {childList: true});\n",
              "}}\n",
              "\n",
              "// Listen for the clearing of the current output cell\n",
              "var outputEl = gd.closest('.output');\n",
              "if (outputEl) {{\n",
              "    x.observe(outputEl, {childList: true});\n",
              "}}\n",
              "\n",
              "                        })                };                            </script>        </div>\n",
              "</body>\n",
              "</html>"
            ]
          },
          "metadata": {}
        }
      ],
      "source": [
        "import plotly.express as px\n",
        "# Unit stressvectors scaled with yield stress --> yield surface\n",
        "fig = px.scatter(data, \n",
        "                 x = 'sigYx',\n",
        "                 y = 'sigYy',\n",
        "                 width=400, height=400,\n",
        "                 hover_data = ['yieldstress'])\n",
        "fig.update_layout(\n",
        "    autosize=True,\n",
        "    width=550,\n",
        "    height=500,\n",
        "    yaxis=dict(\n",
        "        tickvals=[-20,-10,0, 10, 20]\n",
        "    ),\n",
        "    xaxis=dict(\n",
        "        tickvals=[-20,-10,0, 10, 20]\n",
        "    )\n",
        ")\n",
        "fig.update_traces(\n",
        "    marker = dict(\n",
        "        color = 'green'\n",
        "    )\n",
        "\n",
        ")\n",
        "fig.show()\n"
      ]
    },
    {
      "cell_type": "markdown",
      "metadata": {
        "id": "VzX7F3EajYJj"
      },
      "source": [
        "Now that we know what our data looks like, and how it is distributed we can start to describe the yield surface with machine learning "
      ]
    },
    {
      "cell_type": "markdown",
      "source": [
        "# 3. Prepare Data for Training and Testing"
      ],
      "metadata": {
        "id": "SRw7Yqq1k2bQ"
      }
    },
    {
      "cell_type": "markdown",
      "source": [
        "A machine learning algorithms learns from the training data. With the training data you provide experience, which helps to predict new data, that was unknown to the algorithm beforehand.\n",
        "The test data is the data unknown to the algorithm and should therefore differ from the training data. We use it to check if the algorithm learned the relationships properly and is able to interpolate/generalise well.  The package sklearn provides a tool, which devides our dataFrame into training and testing data."
      ],
      "metadata": {
        "id": "kIeusYe1oNTM"
      }
    },
    {
      "cell_type": "code",
      "execution_count": null,
      "metadata": {
        "id": "2YBU4dqRjYJs"
      },
      "outputs": [],
      "source": [
        "from sklearn.model_selection import train_test_split\n",
        "import lib\n",
        "X_train, X_test, _, _ = train_test_split(\n",
        "                             data[['sxx','syy', 'yieldstress']],\n",
        "                             data['yieldstress'], \n",
        "                             test_size=0.5, \n",
        "                             random_state=42)"
      ]
    },
    {
      "cell_type": "markdown",
      "source": [
        "# 4. SVC for Yield Surface Prediction"
      ],
      "metadata": {
        "id": "us7DtFeMltk6"
      }
    },
    {
      "cell_type": "markdown",
      "source": [
        "## Set parameters"
      ],
      "metadata": {
        "id": "elBWs2NNmCAd"
      }
    },
    {
      "cell_type": "code",
      "execution_count": null,
      "metadata": {
        "id": "HvOPM7NkjYJv"
      },
      "outputs": [],
      "source": [
        "from sklearn.svm import SVC\n",
        "C = 1000\n",
        "gamma = 1e-4"
      ]
    },
    {
      "cell_type": "markdown",
      "source": [
        "## Initialise SVC"
      ],
      "metadata": {
        "id": "0dH-vKwdmN1Q"
      }
    },
    {
      "cell_type": "code",
      "source": [
        "estimator = SVC(C=C,gamma=gamma)"
      ],
      "metadata": {
        "id": "5jO0oV0FmMau"
      },
      "execution_count": null,
      "outputs": []
    },
    {
      "cell_type": "markdown",
      "source": [
        "## Train SVC"
      ],
      "metadata": {
        "id": "m6yOMNcYmW6T"
      }
    },
    {
      "cell_type": "markdown",
      "source": [
        "To train the algorithm and as such properly define the two classes and therefore the yield surface, we need multiple data points for one load case and thus for one point on the yield surface. Therefore we take the unit stress vectors and scale it by some values of which some are below the yield stress (in the elastic region) and some are above the yield stress (plastic region). We can get these values e.g. from a normal distribution with standard deviation of **std_train***yield_stress."
      ],
      "metadata": {
        "id": "L8U54SpRpfD_"
      }
    },
    {
      "cell_type": "code",
      "source": [
        "std_train = 0.2\n",
        "train_data = lib.expand_data(X_train, std = std_train, seed =10)"
      ],
      "metadata": {
        "id": "k9ixIXpypfnA"
      },
      "execution_count": null,
      "outputs": []
    },
    {
      "cell_type": "markdown",
      "source": [
        "Let's see how the points are distributed in stress space."
      ],
      "metadata": {
        "id": "L3t-Fhiwq2SF"
      }
    },
    {
      "cell_type": "code",
      "source": [
        "lib.plot_train_pred_data(data, train_data=train_data)"
      ],
      "metadata": {
        "id": "p1J0AoD8smJO",
        "colab": {
          "base_uri": "https://localhost:8080/",
          "height": 542
        },
        "outputId": "9b7e1c56-de58-4c8c-b5cd-6296534cf8a8"
      },
      "execution_count": null,
      "outputs": [
        {
          "output_type": "display_data",
          "data": {
            "text/html": [
              "<html>\n",
              "<head><meta charset=\"utf-8\" /></head>\n",
              "<body>\n",
              "    <div>            <script src=\"https://cdnjs.cloudflare.com/ajax/libs/mathjax/2.7.5/MathJax.js?config=TeX-AMS-MML_SVG\"></script><script type=\"text/javascript\">if (window.MathJax && window.MathJax.Hub && window.MathJax.Hub.Config) {window.MathJax.Hub.Config({SVG: {font: \"STIX-Web\"}});}</script>                <script type=\"text/javascript\">window.PlotlyConfig = {MathJaxConfig: 'local'};</script>\n",
              "        <script src=\"https://cdn.plot.ly/plotly-2.18.2.min.js\"></script>                <div id=\"8d25fc64-ad0d-49a1-9c4e-f9f36c900625\" class=\"plotly-graph-div\" style=\"height:525px; width:100%;\"></div>            <script type=\"text/javascript\">                                    window.PLOTLYENV=window.PLOTLYENV || {};                                    if (document.getElementById(\"8d25fc64-ad0d-49a1-9c4e-f9f36c900625\")) {                    Plotly.newPlot(                        \"8d25fc64-ad0d-49a1-9c4e-f9f36c900625\",                        [{\"marker\":{\"color\":\"white\",\"line\":{\"color\":\"blue\",\"width\":2},\"size\":4},\"mode\":\"markers\",\"name\":\"Train elastic\",\"x\":[19.804871918837403,21.727660549795743,21.439071758104078,24.149197680150582,23.12157318936886,18.515773660037507,20.313408061957333,20.043603502266937,22.577327444964325,21.616590987955085,13.659868615013838,14.986059472544767,14.787013248240523,16.656248463545648,15.947472583187778,16.5671252267879,18.175571883967837,17.934162261598324,20.201230471628133,19.341604431395993,11.707030789367062,12.843627168092626,12.673036927284906,14.275043127702823,13.66759504105064,-8.612127477235608,-9.448250067144516,-9.322757538198342,-10.501252911239627,-10.0543914950381,15.548076405318689,17.057587028156043,16.831026583769997,18.95864675100445,18.151896565286062,-11.933633691678573,-13.092230186642821,-12.918337977610319,-14.551352830953743,-13.932146895371671,-18.939430862195092,-20.778196721822418,-20.502218796277244,-23.09391657340963,-22.111197620456085,-0.971040589886368,-1.0653156659426128,-1.0511660449974594,-1.184044575330558,-1.1336597459916091,5.648691320336815,6.197103826867898,6.1147933221872455,6.887768014253951,6.594671771802461,-16.9701334929559,-18.61770687186096,-18.37042477179748,-20.69264118745149,-19.812104072106166,18.101254438596204,19.85864455872681,19.594880209836006,22.071880771952173,21.13265266428235,2.227307582713753,2.4435494102418507,2.4110939615696654,2.7158817956450707,2.600312463519097,-5.5822039402690935,-6.124161409927413,-6.042819733157142,-6.806696200658248,-6.51704981945128,-14.623703137677431,-16.04346945835185,-15.830378617075276,-17.831506274560212,-17.072719469385003,9.44233072774738,10.359054968503136,10.221465044839867,11.513566572922185,11.02362801913306],\"y\":[3.0528487253906067,3.349239575342708,3.3047546663522116,3.722510686218125,3.564106121436304,10.369435095984416,11.376168792305622,11.225069469010883,12.644037234405845,12.105993590201827,-9.341324928420722,-10.248242854679617,-10.11212474773402,-11.390404503266934,-10.90570688380571,14.188826112674407,15.566371680648807,15.359617696065596,17.301236183120498,16.565014041993752,-11.598823706187895,-12.72491462190523,-12.555901132086616,-14.143100126364814,-13.541266630365211,-18.626655845808923,-20.43505542748102,-20.163635136260375,-22.712532349816758,-21.74604249787737,-7.238700756085668,-7.941481949205754,-7.836002453393952,-8.826556224274233,-8.45095843152514,-17.334423062486668,-19.017364094640936,-18.764773710478092,-21.136840012037062,-20.237400836384545,-5.791476416664498,-6.353751449598895,-6.269360336743161,-7.061873937843229,-6.761368939480252,-18.508337967981486,-20.305250463483166,-20.03555425376821,-22.5682606861342,-21.607910048295818,19.77984096358495,21.700199422998697,21.411975372526303,24.118676024217045,23.09235032611373,-12.703995571197554,-13.937383918880322,-13.752266300014986,-15.490698532859618,-14.83152047640736,-2.592006202038557,-2.84365539608928,-2.805885702805269,-3.1605793977222505,-3.026086780734435,19.70560578056096,21.618756994882656,21.331614670253167,24.0281568773619,23.005683054315682,16.780903063022237,18.410104693763564,18.16557998497985,20.46190184824771,19.59118341918311,8.784433563147147,9.637284773387119,9.509281468035114,10.711355442941077,10.255553501674855,-14.059500740988133,-15.424490542109208,-15.219621035895914,-17.14354246115604,-16.41403068502276],\"type\":\"scatter\"},{\"marker\":{\"color\":\"white\",\"line\":{\"color\":\"orange\",\"width\":2},\"size\":4},\"mode\":\"markers\",\"name\":\"Train plastic\",\"x\":[26.769525880553992,26.055467969738075,29.697398200606642,29.773097189624263,27.827746737435103,25.027098595846432,24.35951868364052,27.76439583289749,27.83516757798567,26.0164399028056,18.463548156894404,17.971046246999233,20.482967993455645,20.535179300274883,19.193427043761343,22.393181301165004,21.795859244443506,24.842398219766803,24.905721761354737,23.278401742145128,15.823968212706363,15.401875205411434,17.554688387957267,17.59943547840981,16.449502384511543,-11.64069984058863,-11.330192517982514,-12.913882003073583,-12.946799627887787,-12.100866054027318,21.01577003025841,20.455189431672046,23.314334884590906,23.373763376220378,21.84654029748946,-16.13025912349316,-15.6999960257441,-17.894479357115582,-17.940092578421368,-16.767901220986452,-25.59974064494009,-24.916885916622547,-28.399669652621707,-28.472060717543144,-26.611718951993396,-1.3125202883694018,-1.2775097506707356,-1.456075009471723,-1.459786560409831,-1.364405269464307,7.635130846122313,7.431469204705322,8.470210569390055,8.491801227687391,7.9369537003048825,-22.937912933637723,-22.32606055115796,-25.44670896752496,-25.511572903741026,-23.84466705352788,24.466808023312826,23.814173460436535,27.142824411916013,27.212011764733436,25.434000593965852,3.0105707435905518,2.930265927393064,3.3398469058599107,3.3483602117239264,3.1295810228984076,-7.5452622699079805,-7.343997808331451,-8.370512767289744,-8.391849294811877,-7.843532547098617,-19.766328265988346,-19.23907563069359,-21.92823750776173,-21.984132822195097,-20.547707096841012,12.76285541381182,12.42241539580417,14.15877147365055,14.194862335181476,13.267381338272243],\"y\":[4.126424715023226,4.016355294134114,4.577745547443124,4.589414270325194,4.289545597973167,14.01598870753892,13.642122257337986,15.548964134824464,15.588598612475554,14.570051997501858,-12.626329544306488,-12.289531255987525,-14.007313314493189,-14.043018107539288,-13.125458491500332,19.178520789959986,18.666947497667703,21.276139567783332,21.330372677519055,19.93666311921231,-15.67770862943338,-15.259516991663435,-17.392431906296235,-17.436765403223166,-16.297461042449523,-25.176974018109423,-24.505396286465796,-27.930663629917436,-28.001859193417435,-26.172240020876814,-9.78428883689525,-9.523299946884011,-10.854429136905408,-10.882097194102768,-10.171069632459243,-23.430309910479277,-22.805323191659586,-25.99296104383315,-26.05921738249626,-24.356528878311977,-7.828128273581854,-7.619318564154262,-8.684316769123766,-8.706453186438534,-8.137580471069693,-25.017048041025912,-24.349736220164235,-27.753246015378355,-27.823989339461157,-26.00599204148135,26.735692447690017,26.02253701943933,29.659864292358204,29.73546760703799,27.79257584179811,-17.17152928952543,-16.713491056621955,-19.049636713769974,-19.098194443664166,-17.85033363293447,-3.5035206181783165,-3.4100667174899146,-3.8867123521846922,-3.896619623982552,-3.642017601920659,26.63535144769,25.924872543676194,29.548548662557966,29.623868232494164,27.688268281483428,22.68213703605772,22.077107292270846,25.1629580070319,25.22709865898256,23.578780129300846,11.873599717199223,11.556879957358925,13.172254915893877,13.205831136055656,12.342972649804103,-19.003716383319254,-18.49680587325047,-21.082216220227835,-21.135955017254492,-19.75494855399024],\"type\":\"scatter\"},{\"marker\":{\"color\":\"green\",\"line\":{\"color\":\"green\",\"width\":2},\"size\":4},\"mode\":\"markers\",\"name\":\"Yield Surface\",\"x\":[24.4613,25.41261495252,23.75850894158,21.2581013391,16.96538274956,12.092580414039999,7.248116428,2.8579689993599997,-0.8701163370000001,-4.11970888533,-7.162803167919999,-9.95563988568,-12.68628102075,-15.65051267808,-18.764399918400002,-21.198843456,-22.92474760532,-23.9547406712,-24.302124542549997,-23.522340294,-21.775221264579997,-19.24270621942,-15.31263818488,-11.05064856758,-6.2186961046,-1.24599041666,3.6685901541599995,8.27294995879,12.115923598090001,15.02187274458,17.52765596455,19.95050917572,21.9478727085,23.226618737589998],\"y\":[0.0,3.9172618477200003,13.305537266249999,18.2063876054,21.946644391600003,24.24281136984,25.38049649044,25.28524163952,24.2249890536,22.89926955509,21.53241030004,19.34876666454,16.9192425948,14.35039078704,11.271743065599999,7.140763131599999,2.46995694524,-2.4903402734899998,-7.4313310778499995,-12.156632316,-16.30112777969,-20.02385284534,-22.24265930708,-23.90078738214,-24.363715545399998,-23.74896783574,-22.48672423752,-20.70316490055,-18.04044379684,-14.883026861040001,-11.986318039580002,-9.288336517640001,-6.44975972275,-3.3259319139700003],\"type\":\"scatter\"}],                        {\"template\":{\"data\":{\"histogram2dcontour\":[{\"type\":\"histogram2dcontour\",\"colorbar\":{\"outlinewidth\":0,\"ticks\":\"\"},\"colorscale\":[[0.0,\"#0d0887\"],[0.1111111111111111,\"#46039f\"],[0.2222222222222222,\"#7201a8\"],[0.3333333333333333,\"#9c179e\"],[0.4444444444444444,\"#bd3786\"],[0.5555555555555556,\"#d8576b\"],[0.6666666666666666,\"#ed7953\"],[0.7777777777777778,\"#fb9f3a\"],[0.8888888888888888,\"#fdca26\"],[1.0,\"#f0f921\"]]}],\"choropleth\":[{\"type\":\"choropleth\",\"colorbar\":{\"outlinewidth\":0,\"ticks\":\"\"}}],\"histogram2d\":[{\"type\":\"histogram2d\",\"colorbar\":{\"outlinewidth\":0,\"ticks\":\"\"},\"colorscale\":[[0.0,\"#0d0887\"],[0.1111111111111111,\"#46039f\"],[0.2222222222222222,\"#7201a8\"],[0.3333333333333333,\"#9c179e\"],[0.4444444444444444,\"#bd3786\"],[0.5555555555555556,\"#d8576b\"],[0.6666666666666666,\"#ed7953\"],[0.7777777777777778,\"#fb9f3a\"],[0.8888888888888888,\"#fdca26\"],[1.0,\"#f0f921\"]]}],\"heatmap\":[{\"type\":\"heatmap\",\"colorbar\":{\"outlinewidth\":0,\"ticks\":\"\"},\"colorscale\":[[0.0,\"#0d0887\"],[0.1111111111111111,\"#46039f\"],[0.2222222222222222,\"#7201a8\"],[0.3333333333333333,\"#9c179e\"],[0.4444444444444444,\"#bd3786\"],[0.5555555555555556,\"#d8576b\"],[0.6666666666666666,\"#ed7953\"],[0.7777777777777778,\"#fb9f3a\"],[0.8888888888888888,\"#fdca26\"],[1.0,\"#f0f921\"]]}],\"heatmapgl\":[{\"type\":\"heatmapgl\",\"colorbar\":{\"outlinewidth\":0,\"ticks\":\"\"},\"colorscale\":[[0.0,\"#0d0887\"],[0.1111111111111111,\"#46039f\"],[0.2222222222222222,\"#7201a8\"],[0.3333333333333333,\"#9c179e\"],[0.4444444444444444,\"#bd3786\"],[0.5555555555555556,\"#d8576b\"],[0.6666666666666666,\"#ed7953\"],[0.7777777777777778,\"#fb9f3a\"],[0.8888888888888888,\"#fdca26\"],[1.0,\"#f0f921\"]]}],\"contourcarpet\":[{\"type\":\"contourcarpet\",\"colorbar\":{\"outlinewidth\":0,\"ticks\":\"\"}}],\"contour\":[{\"type\":\"contour\",\"colorbar\":{\"outlinewidth\":0,\"ticks\":\"\"},\"colorscale\":[[0.0,\"#0d0887\"],[0.1111111111111111,\"#46039f\"],[0.2222222222222222,\"#7201a8\"],[0.3333333333333333,\"#9c179e\"],[0.4444444444444444,\"#bd3786\"],[0.5555555555555556,\"#d8576b\"],[0.6666666666666666,\"#ed7953\"],[0.7777777777777778,\"#fb9f3a\"],[0.8888888888888888,\"#fdca26\"],[1.0,\"#f0f921\"]]}],\"surface\":[{\"type\":\"surface\",\"colorbar\":{\"outlinewidth\":0,\"ticks\":\"\"},\"colorscale\":[[0.0,\"#0d0887\"],[0.1111111111111111,\"#46039f\"],[0.2222222222222222,\"#7201a8\"],[0.3333333333333333,\"#9c179e\"],[0.4444444444444444,\"#bd3786\"],[0.5555555555555556,\"#d8576b\"],[0.6666666666666666,\"#ed7953\"],[0.7777777777777778,\"#fb9f3a\"],[0.8888888888888888,\"#fdca26\"],[1.0,\"#f0f921\"]]}],\"mesh3d\":[{\"type\":\"mesh3d\",\"colorbar\":{\"outlinewidth\":0,\"ticks\":\"\"}}],\"scatter\":[{\"fillpattern\":{\"fillmode\":\"overlay\",\"size\":10,\"solidity\":0.2},\"type\":\"scatter\"}],\"parcoords\":[{\"type\":\"parcoords\",\"line\":{\"colorbar\":{\"outlinewidth\":0,\"ticks\":\"\"}}}],\"scatterpolargl\":[{\"type\":\"scatterpolargl\",\"marker\":{\"colorbar\":{\"outlinewidth\":0,\"ticks\":\"\"}}}],\"bar\":[{\"error_x\":{\"color\":\"#2a3f5f\"},\"error_y\":{\"color\":\"#2a3f5f\"},\"marker\":{\"line\":{\"color\":\"#E5ECF6\",\"width\":0.5},\"pattern\":{\"fillmode\":\"overlay\",\"size\":10,\"solidity\":0.2}},\"type\":\"bar\"}],\"scattergeo\":[{\"type\":\"scattergeo\",\"marker\":{\"colorbar\":{\"outlinewidth\":0,\"ticks\":\"\"}}}],\"scatterpolar\":[{\"type\":\"scatterpolar\",\"marker\":{\"colorbar\":{\"outlinewidth\":0,\"ticks\":\"\"}}}],\"histogram\":[{\"marker\":{\"pattern\":{\"fillmode\":\"overlay\",\"size\":10,\"solidity\":0.2}},\"type\":\"histogram\"}],\"scattergl\":[{\"type\":\"scattergl\",\"marker\":{\"colorbar\":{\"outlinewidth\":0,\"ticks\":\"\"}}}],\"scatter3d\":[{\"type\":\"scatter3d\",\"line\":{\"colorbar\":{\"outlinewidth\":0,\"ticks\":\"\"}},\"marker\":{\"colorbar\":{\"outlinewidth\":0,\"ticks\":\"\"}}}],\"scattermapbox\":[{\"type\":\"scattermapbox\",\"marker\":{\"colorbar\":{\"outlinewidth\":0,\"ticks\":\"\"}}}],\"scatterternary\":[{\"type\":\"scatterternary\",\"marker\":{\"colorbar\":{\"outlinewidth\":0,\"ticks\":\"\"}}}],\"scattercarpet\":[{\"type\":\"scattercarpet\",\"marker\":{\"colorbar\":{\"outlinewidth\":0,\"ticks\":\"\"}}}],\"carpet\":[{\"aaxis\":{\"endlinecolor\":\"#2a3f5f\",\"gridcolor\":\"white\",\"linecolor\":\"white\",\"minorgridcolor\":\"white\",\"startlinecolor\":\"#2a3f5f\"},\"baxis\":{\"endlinecolor\":\"#2a3f5f\",\"gridcolor\":\"white\",\"linecolor\":\"white\",\"minorgridcolor\":\"white\",\"startlinecolor\":\"#2a3f5f\"},\"type\":\"carpet\"}],\"table\":[{\"cells\":{\"fill\":{\"color\":\"#EBF0F8\"},\"line\":{\"color\":\"white\"}},\"header\":{\"fill\":{\"color\":\"#C8D4E3\"},\"line\":{\"color\":\"white\"}},\"type\":\"table\"}],\"barpolar\":[{\"marker\":{\"line\":{\"color\":\"#E5ECF6\",\"width\":0.5},\"pattern\":{\"fillmode\":\"overlay\",\"size\":10,\"solidity\":0.2}},\"type\":\"barpolar\"}],\"pie\":[{\"automargin\":true,\"type\":\"pie\"}]},\"layout\":{\"autotypenumbers\":\"strict\",\"colorway\":[\"#636efa\",\"#EF553B\",\"#00cc96\",\"#ab63fa\",\"#FFA15A\",\"#19d3f3\",\"#FF6692\",\"#B6E880\",\"#FF97FF\",\"#FECB52\"],\"font\":{\"color\":\"#2a3f5f\"},\"hovermode\":\"closest\",\"hoverlabel\":{\"align\":\"left\"},\"paper_bgcolor\":\"white\",\"plot_bgcolor\":\"#E5ECF6\",\"polar\":{\"bgcolor\":\"#E5ECF6\",\"angularaxis\":{\"gridcolor\":\"white\",\"linecolor\":\"white\",\"ticks\":\"\"},\"radialaxis\":{\"gridcolor\":\"white\",\"linecolor\":\"white\",\"ticks\":\"\"}},\"ternary\":{\"bgcolor\":\"#E5ECF6\",\"aaxis\":{\"gridcolor\":\"white\",\"linecolor\":\"white\",\"ticks\":\"\"},\"baxis\":{\"gridcolor\":\"white\",\"linecolor\":\"white\",\"ticks\":\"\"},\"caxis\":{\"gridcolor\":\"white\",\"linecolor\":\"white\",\"ticks\":\"\"}},\"coloraxis\":{\"colorbar\":{\"outlinewidth\":0,\"ticks\":\"\"}},\"colorscale\":{\"sequential\":[[0.0,\"#0d0887\"],[0.1111111111111111,\"#46039f\"],[0.2222222222222222,\"#7201a8\"],[0.3333333333333333,\"#9c179e\"],[0.4444444444444444,\"#bd3786\"],[0.5555555555555556,\"#d8576b\"],[0.6666666666666666,\"#ed7953\"],[0.7777777777777778,\"#fb9f3a\"],[0.8888888888888888,\"#fdca26\"],[1.0,\"#f0f921\"]],\"sequentialminus\":[[0.0,\"#0d0887\"],[0.1111111111111111,\"#46039f\"],[0.2222222222222222,\"#7201a8\"],[0.3333333333333333,\"#9c179e\"],[0.4444444444444444,\"#bd3786\"],[0.5555555555555556,\"#d8576b\"],[0.6666666666666666,\"#ed7953\"],[0.7777777777777778,\"#fb9f3a\"],[0.8888888888888888,\"#fdca26\"],[1.0,\"#f0f921\"]],\"diverging\":[[0,\"#8e0152\"],[0.1,\"#c51b7d\"],[0.2,\"#de77ae\"],[0.3,\"#f1b6da\"],[0.4,\"#fde0ef\"],[0.5,\"#f7f7f7\"],[0.6,\"#e6f5d0\"],[0.7,\"#b8e186\"],[0.8,\"#7fbc41\"],[0.9,\"#4d9221\"],[1,\"#276419\"]]},\"xaxis\":{\"gridcolor\":\"white\",\"linecolor\":\"white\",\"ticks\":\"\",\"title\":{\"standoff\":15},\"zerolinecolor\":\"white\",\"automargin\":true,\"zerolinewidth\":2},\"yaxis\":{\"gridcolor\":\"white\",\"linecolor\":\"white\",\"ticks\":\"\",\"title\":{\"standoff\":15},\"zerolinecolor\":\"white\",\"automargin\":true,\"zerolinewidth\":2},\"scene\":{\"xaxis\":{\"backgroundcolor\":\"#E5ECF6\",\"gridcolor\":\"white\",\"linecolor\":\"white\",\"showbackground\":true,\"ticks\":\"\",\"zerolinecolor\":\"white\",\"gridwidth\":2},\"yaxis\":{\"backgroundcolor\":\"#E5ECF6\",\"gridcolor\":\"white\",\"linecolor\":\"white\",\"showbackground\":true,\"ticks\":\"\",\"zerolinecolor\":\"white\",\"gridwidth\":2},\"zaxis\":{\"backgroundcolor\":\"#E5ECF6\",\"gridcolor\":\"white\",\"linecolor\":\"white\",\"showbackground\":true,\"ticks\":\"\",\"zerolinecolor\":\"white\",\"gridwidth\":2}},\"shapedefaults\":{\"line\":{\"color\":\"#2a3f5f\"}},\"annotationdefaults\":{\"arrowcolor\":\"#2a3f5f\",\"arrowhead\":0,\"arrowwidth\":1},\"geo\":{\"bgcolor\":\"white\",\"landcolor\":\"#E5ECF6\",\"subunitcolor\":\"white\",\"showland\":true,\"showlakes\":true,\"lakecolor\":\"white\"},\"title\":{\"x\":0.05},\"mapbox\":{\"style\":\"light\"}}}},                        {\"responsive\": true}                    ).then(function(){\n",
              "                            \n",
              "var gd = document.getElementById('8d25fc64-ad0d-49a1-9c4e-f9f36c900625');\n",
              "var x = new MutationObserver(function (mutations, observer) {{\n",
              "        var display = window.getComputedStyle(gd).display;\n",
              "        if (!display || display === 'none') {{\n",
              "            console.log([gd, 'removed!']);\n",
              "            Plotly.purge(gd);\n",
              "            observer.disconnect();\n",
              "        }}\n",
              "}});\n",
              "\n",
              "// Listen for the removal of the full notebook cells\n",
              "var notebookContainer = gd.closest('#notebook-container');\n",
              "if (notebookContainer) {{\n",
              "    x.observe(notebookContainer, {childList: true});\n",
              "}}\n",
              "\n",
              "// Listen for the clearing of the current output cell\n",
              "var outputEl = gd.closest('.output');\n",
              "if (outputEl) {{\n",
              "    x.observe(outputEl, {childList: true});\n",
              "}}\n",
              "\n",
              "                        })                };                            </script>        </div>\n",
              "</body>\n",
              "</html>"
            ]
          },
          "metadata": {}
        }
      ]
    },
    {
      "cell_type": "markdown",
      "source": [
        "Now we train the SVC (estimator) with this data. The stress components are the inputs and the class is the output."
      ],
      "metadata": {
        "id": "fjEpvsv3vOxL"
      }
    },
    {
      "cell_type": "code",
      "source": [
        "estimator.fit(train_data[['sxx', 'syy']], train_data['classifier']) #Training of SVC"
      ],
      "metadata": {
        "id": "ngZejSIumRSe",
        "colab": {
          "base_uri": "https://localhost:8080/",
          "height": 75
        },
        "outputId": "b12d981f-b7b6-4fdd-d59a-6496a97e4cf7"
      },
      "execution_count": null,
      "outputs": [
        {
          "output_type": "execute_result",
          "data": {
            "text/plain": [
              "SVC(C=1000, gamma=0.0001)"
            ],
            "text/html": [
              "<style>#sk-container-id-2 {color: black;background-color: white;}#sk-container-id-2 pre{padding: 0;}#sk-container-id-2 div.sk-toggleable {background-color: white;}#sk-container-id-2 label.sk-toggleable__label {cursor: pointer;display: block;width: 100%;margin-bottom: 0;padding: 0.3em;box-sizing: border-box;text-align: center;}#sk-container-id-2 label.sk-toggleable__label-arrow:before {content: \"▸\";float: left;margin-right: 0.25em;color: #696969;}#sk-container-id-2 label.sk-toggleable__label-arrow:hover:before {color: black;}#sk-container-id-2 div.sk-estimator:hover label.sk-toggleable__label-arrow:before {color: black;}#sk-container-id-2 div.sk-toggleable__content {max-height: 0;max-width: 0;overflow: hidden;text-align: left;background-color: #f0f8ff;}#sk-container-id-2 div.sk-toggleable__content pre {margin: 0.2em;color: black;border-radius: 0.25em;background-color: #f0f8ff;}#sk-container-id-2 input.sk-toggleable__control:checked~div.sk-toggleable__content {max-height: 200px;max-width: 100%;overflow: auto;}#sk-container-id-2 input.sk-toggleable__control:checked~label.sk-toggleable__label-arrow:before {content: \"▾\";}#sk-container-id-2 div.sk-estimator input.sk-toggleable__control:checked~label.sk-toggleable__label {background-color: #d4ebff;}#sk-container-id-2 div.sk-label input.sk-toggleable__control:checked~label.sk-toggleable__label {background-color: #d4ebff;}#sk-container-id-2 input.sk-hidden--visually {border: 0;clip: rect(1px 1px 1px 1px);clip: rect(1px, 1px, 1px, 1px);height: 1px;margin: -1px;overflow: hidden;padding: 0;position: absolute;width: 1px;}#sk-container-id-2 div.sk-estimator {font-family: monospace;background-color: #f0f8ff;border: 1px dotted black;border-radius: 0.25em;box-sizing: border-box;margin-bottom: 0.5em;}#sk-container-id-2 div.sk-estimator:hover {background-color: #d4ebff;}#sk-container-id-2 div.sk-parallel-item::after {content: \"\";width: 100%;border-bottom: 1px solid gray;flex-grow: 1;}#sk-container-id-2 div.sk-label:hover label.sk-toggleable__label {background-color: #d4ebff;}#sk-container-id-2 div.sk-serial::before {content: \"\";position: absolute;border-left: 1px solid gray;box-sizing: border-box;top: 0;bottom: 0;left: 50%;z-index: 0;}#sk-container-id-2 div.sk-serial {display: flex;flex-direction: column;align-items: center;background-color: white;padding-right: 0.2em;padding-left: 0.2em;position: relative;}#sk-container-id-2 div.sk-item {position: relative;z-index: 1;}#sk-container-id-2 div.sk-parallel {display: flex;align-items: stretch;justify-content: center;background-color: white;position: relative;}#sk-container-id-2 div.sk-item::before, #sk-container-id-2 div.sk-parallel-item::before {content: \"\";position: absolute;border-left: 1px solid gray;box-sizing: border-box;top: 0;bottom: 0;left: 50%;z-index: -1;}#sk-container-id-2 div.sk-parallel-item {display: flex;flex-direction: column;z-index: 1;position: relative;background-color: white;}#sk-container-id-2 div.sk-parallel-item:first-child::after {align-self: flex-end;width: 50%;}#sk-container-id-2 div.sk-parallel-item:last-child::after {align-self: flex-start;width: 50%;}#sk-container-id-2 div.sk-parallel-item:only-child::after {width: 0;}#sk-container-id-2 div.sk-dashed-wrapped {border: 1px dashed gray;margin: 0 0.4em 0.5em 0.4em;box-sizing: border-box;padding-bottom: 0.4em;background-color: white;}#sk-container-id-2 div.sk-label label {font-family: monospace;font-weight: bold;display: inline-block;line-height: 1.2em;}#sk-container-id-2 div.sk-label-container {text-align: center;}#sk-container-id-2 div.sk-container {/* jupyter's `normalize.less` sets `[hidden] { display: none; }` but bootstrap.min.css set `[hidden] { display: none !important; }` so we also need the `!important` here to be able to override the default hidden behavior on the sphinx rendered scikit-learn.org. See: https://github.com/scikit-learn/scikit-learn/issues/21755 */display: inline-block !important;position: relative;}#sk-container-id-2 div.sk-text-repr-fallback {display: none;}</style><div id=\"sk-container-id-2\" class=\"sk-top-container\"><div class=\"sk-text-repr-fallback\"><pre>SVC(C=1000, gamma=0.0001)</pre><b>In a Jupyter environment, please rerun this cell to show the HTML representation or trust the notebook. <br />On GitHub, the HTML representation is unable to render, please try loading this page with nbviewer.org.</b></div><div class=\"sk-container\" hidden><div class=\"sk-item\"><div class=\"sk-estimator sk-toggleable\"><input class=\"sk-toggleable__control sk-hidden--visually\" id=\"sk-estimator-id-2\" type=\"checkbox\" checked><label for=\"sk-estimator-id-2\" class=\"sk-toggleable__label sk-toggleable__label-arrow\">SVC</label><div class=\"sk-toggleable__content\"><pre>SVC(C=1000, gamma=0.0001)</pre></div></div></div></div></div>"
            ]
          },
          "metadata": {},
          "execution_count": 30
        }
      ]
    },
    {
      "cell_type": "markdown",
      "source": [
        "## Support Vectors\n",
        "During training the support vector machine defines 'support vectors'. they are plotted together with the training data."
      ],
      "metadata": {
        "id": "ARhUOXpazL6S"
      }
    },
    {
      "cell_type": "code",
      "source": [
        "lib.plot_train_pred_data(data,\n",
        "                         train_data=train_data,\n",
        "                         support_vectors=estimator.support_vectors_)"
      ],
      "metadata": {
        "id": "OHISjzpNzWEB",
        "colab": {
          "base_uri": "https://localhost:8080/",
          "height": 542
        },
        "outputId": "78a0bcad-36eb-4150-8b1e-2f33b8fcf6ef"
      },
      "execution_count": null,
      "outputs": [
        {
          "output_type": "display_data",
          "data": {
            "text/html": [
              "<html>\n",
              "<head><meta charset=\"utf-8\" /></head>\n",
              "<body>\n",
              "    <div>            <script src=\"https://cdnjs.cloudflare.com/ajax/libs/mathjax/2.7.5/MathJax.js?config=TeX-AMS-MML_SVG\"></script><script type=\"text/javascript\">if (window.MathJax && window.MathJax.Hub && window.MathJax.Hub.Config) {window.MathJax.Hub.Config({SVG: {font: \"STIX-Web\"}});}</script>                <script type=\"text/javascript\">window.PlotlyConfig = {MathJaxConfig: 'local'};</script>\n",
              "        <script src=\"https://cdn.plot.ly/plotly-2.18.2.min.js\"></script>                <div id=\"5c164bb3-5ac1-4ac3-b73a-22716f18011c\" class=\"plotly-graph-div\" style=\"height:525px; width:100%;\"></div>            <script type=\"text/javascript\">                                    window.PLOTLYENV=window.PLOTLYENV || {};                                    if (document.getElementById(\"5c164bb3-5ac1-4ac3-b73a-22716f18011c\")) {                    Plotly.newPlot(                        \"5c164bb3-5ac1-4ac3-b73a-22716f18011c\",                        [{\"marker\":{\"color\":\"white\",\"line\":{\"color\":\"blue\",\"width\":2},\"size\":4},\"mode\":\"markers\",\"name\":\"Train elastic\",\"x\":[19.804871918837403,21.727660549795743,21.439071758104078,24.149197680150582,23.12157318936886,18.515773660037507,20.313408061957333,20.043603502266937,22.577327444964325,21.616590987955085,13.659868615013838,14.986059472544767,14.787013248240523,16.656248463545648,15.947472583187778,16.5671252267879,18.175571883967837,17.934162261598324,20.201230471628133,19.341604431395993,11.707030789367062,12.843627168092626,12.673036927284906,14.275043127702823,13.66759504105064,-8.612127477235608,-9.448250067144516,-9.322757538198342,-10.501252911239627,-10.0543914950381,15.548076405318689,17.057587028156043,16.831026583769997,18.95864675100445,18.151896565286062,-11.933633691678573,-13.092230186642821,-12.918337977610319,-14.551352830953743,-13.932146895371671,-18.939430862195092,-20.778196721822418,-20.502218796277244,-23.09391657340963,-22.111197620456085,-0.971040589886368,-1.0653156659426128,-1.0511660449974594,-1.184044575330558,-1.1336597459916091,5.648691320336815,6.197103826867898,6.1147933221872455,6.887768014253951,6.594671771802461,-16.9701334929559,-18.61770687186096,-18.37042477179748,-20.69264118745149,-19.812104072106166,18.101254438596204,19.85864455872681,19.594880209836006,22.071880771952173,21.13265266428235,2.227307582713753,2.4435494102418507,2.4110939615696654,2.7158817956450707,2.600312463519097,-5.5822039402690935,-6.124161409927413,-6.042819733157142,-6.806696200658248,-6.51704981945128,-14.623703137677431,-16.04346945835185,-15.830378617075276,-17.831506274560212,-17.072719469385003,9.44233072774738,10.359054968503136,10.221465044839867,11.513566572922185,11.02362801913306],\"y\":[3.0528487253906067,3.349239575342708,3.3047546663522116,3.722510686218125,3.564106121436304,10.369435095984416,11.376168792305622,11.225069469010883,12.644037234405845,12.105993590201827,-9.341324928420722,-10.248242854679617,-10.11212474773402,-11.390404503266934,-10.90570688380571,14.188826112674407,15.566371680648807,15.359617696065596,17.301236183120498,16.565014041993752,-11.598823706187895,-12.72491462190523,-12.555901132086616,-14.143100126364814,-13.541266630365211,-18.626655845808923,-20.43505542748102,-20.163635136260375,-22.712532349816758,-21.74604249787737,-7.238700756085668,-7.941481949205754,-7.836002453393952,-8.826556224274233,-8.45095843152514,-17.334423062486668,-19.017364094640936,-18.764773710478092,-21.136840012037062,-20.237400836384545,-5.791476416664498,-6.353751449598895,-6.269360336743161,-7.061873937843229,-6.761368939480252,-18.508337967981486,-20.305250463483166,-20.03555425376821,-22.5682606861342,-21.607910048295818,19.77984096358495,21.700199422998697,21.411975372526303,24.118676024217045,23.09235032611373,-12.703995571197554,-13.937383918880322,-13.752266300014986,-15.490698532859618,-14.83152047640736,-2.592006202038557,-2.84365539608928,-2.805885702805269,-3.1605793977222505,-3.026086780734435,19.70560578056096,21.618756994882656,21.331614670253167,24.0281568773619,23.005683054315682,16.780903063022237,18.410104693763564,18.16557998497985,20.46190184824771,19.59118341918311,8.784433563147147,9.637284773387119,9.509281468035114,10.711355442941077,10.255553501674855,-14.059500740988133,-15.424490542109208,-15.219621035895914,-17.14354246115604,-16.41403068502276],\"type\":\"scatter\"},{\"marker\":{\"color\":\"white\",\"line\":{\"color\":\"orange\",\"width\":2},\"size\":4},\"mode\":\"markers\",\"name\":\"Train plastic\",\"x\":[26.769525880553992,26.055467969738075,29.697398200606642,29.773097189624263,27.827746737435103,25.027098595846432,24.35951868364052,27.76439583289749,27.83516757798567,26.0164399028056,18.463548156894404,17.971046246999233,20.482967993455645,20.535179300274883,19.193427043761343,22.393181301165004,21.795859244443506,24.842398219766803,24.905721761354737,23.278401742145128,15.823968212706363,15.401875205411434,17.554688387957267,17.59943547840981,16.449502384511543,-11.64069984058863,-11.330192517982514,-12.913882003073583,-12.946799627887787,-12.100866054027318,21.01577003025841,20.455189431672046,23.314334884590906,23.373763376220378,21.84654029748946,-16.13025912349316,-15.6999960257441,-17.894479357115582,-17.940092578421368,-16.767901220986452,-25.59974064494009,-24.916885916622547,-28.399669652621707,-28.472060717543144,-26.611718951993396,-1.3125202883694018,-1.2775097506707356,-1.456075009471723,-1.459786560409831,-1.364405269464307,7.635130846122313,7.431469204705322,8.470210569390055,8.491801227687391,7.9369537003048825,-22.937912933637723,-22.32606055115796,-25.44670896752496,-25.511572903741026,-23.84466705352788,24.466808023312826,23.814173460436535,27.142824411916013,27.212011764733436,25.434000593965852,3.0105707435905518,2.930265927393064,3.3398469058599107,3.3483602117239264,3.1295810228984076,-7.5452622699079805,-7.343997808331451,-8.370512767289744,-8.391849294811877,-7.843532547098617,-19.766328265988346,-19.23907563069359,-21.92823750776173,-21.984132822195097,-20.547707096841012,12.76285541381182,12.42241539580417,14.15877147365055,14.194862335181476,13.267381338272243],\"y\":[4.126424715023226,4.016355294134114,4.577745547443124,4.589414270325194,4.289545597973167,14.01598870753892,13.642122257337986,15.548964134824464,15.588598612475554,14.570051997501858,-12.626329544306488,-12.289531255987525,-14.007313314493189,-14.043018107539288,-13.125458491500332,19.178520789959986,18.666947497667703,21.276139567783332,21.330372677519055,19.93666311921231,-15.67770862943338,-15.259516991663435,-17.392431906296235,-17.436765403223166,-16.297461042449523,-25.176974018109423,-24.505396286465796,-27.930663629917436,-28.001859193417435,-26.172240020876814,-9.78428883689525,-9.523299946884011,-10.854429136905408,-10.882097194102768,-10.171069632459243,-23.430309910479277,-22.805323191659586,-25.99296104383315,-26.05921738249626,-24.356528878311977,-7.828128273581854,-7.619318564154262,-8.684316769123766,-8.706453186438534,-8.137580471069693,-25.017048041025912,-24.349736220164235,-27.753246015378355,-27.823989339461157,-26.00599204148135,26.735692447690017,26.02253701943933,29.659864292358204,29.73546760703799,27.79257584179811,-17.17152928952543,-16.713491056621955,-19.049636713769974,-19.098194443664166,-17.85033363293447,-3.5035206181783165,-3.4100667174899146,-3.8867123521846922,-3.896619623982552,-3.642017601920659,26.63535144769,25.924872543676194,29.548548662557966,29.623868232494164,27.688268281483428,22.68213703605772,22.077107292270846,25.1629580070319,25.22709865898256,23.578780129300846,11.873599717199223,11.556879957358925,13.172254915893877,13.205831136055656,12.342972649804103,-19.003716383319254,-18.49680587325047,-21.082216220227835,-21.135955017254492,-19.75494855399024],\"type\":\"scatter\"},{\"marker\":{\"color\":\"black\",\"size\":4},\"mode\":\"markers\",\"name\":\"Support Vectors\",\"x\":[24.149197680150582,22.577327444964325,20.201230471628133,14.275043127702823,-10.501252911239627,18.95864675100445,-14.551352830953743,-23.09391657340963,-1.184044575330558,6.887768014253951,-20.69264118745149,22.071880771952173,2.7158817956450707,-6.806696200658248,-17.831506274560212,11.513566572922185,24.35951868364052,18.463548156894404,17.971046246999233,21.795859244443506,15.401875205411434,-11.330192517982514,20.455189431672046,-15.6999960257441,-24.916885916622547,-1.2775097506707356,7.431469204705322,-22.32606055115796,23.814173460436535,2.930265927393064,-7.343997808331451,-19.23907563069359],\"y\":[3.722510686218125,12.644037234405845,17.301236183120498,-14.143100126364814,-22.712532349816758,-8.826556224274233,-21.136840012037062,-7.061873937843229,-22.5682606861342,24.118676024217045,-15.490698532859618,-3.1605793977222505,24.0281568773619,20.46190184824771,10.711355442941077,-17.14354246115604,13.642122257337986,-12.626329544306488,-12.289531255987525,18.666947497667703,-15.259516991663435,-24.505396286465796,-9.523299946884011,-22.805323191659586,-7.619318564154262,-24.349736220164235,26.02253701943933,-16.713491056621955,-3.4100667174899146,25.924872543676194,22.077107292270846,11.556879957358925],\"type\":\"scatter\"},{\"marker\":{\"color\":\"green\",\"line\":{\"color\":\"green\",\"width\":2},\"size\":4},\"mode\":\"markers\",\"name\":\"Yield Surface\",\"x\":[24.4613,25.41261495252,23.75850894158,21.2581013391,16.96538274956,12.092580414039999,7.248116428,2.8579689993599997,-0.8701163370000001,-4.11970888533,-7.162803167919999,-9.95563988568,-12.68628102075,-15.65051267808,-18.764399918400002,-21.198843456,-22.92474760532,-23.9547406712,-24.302124542549997,-23.522340294,-21.775221264579997,-19.24270621942,-15.31263818488,-11.05064856758,-6.2186961046,-1.24599041666,3.6685901541599995,8.27294995879,12.115923598090001,15.02187274458,17.52765596455,19.95050917572,21.9478727085,23.226618737589998],\"y\":[0.0,3.9172618477200003,13.305537266249999,18.2063876054,21.946644391600003,24.24281136984,25.38049649044,25.28524163952,24.2249890536,22.89926955509,21.53241030004,19.34876666454,16.9192425948,14.35039078704,11.271743065599999,7.140763131599999,2.46995694524,-2.4903402734899998,-7.4313310778499995,-12.156632316,-16.30112777969,-20.02385284534,-22.24265930708,-23.90078738214,-24.363715545399998,-23.74896783574,-22.48672423752,-20.70316490055,-18.04044379684,-14.883026861040001,-11.986318039580002,-9.288336517640001,-6.44975972275,-3.3259319139700003],\"type\":\"scatter\"}],                        {\"template\":{\"data\":{\"histogram2dcontour\":[{\"type\":\"histogram2dcontour\",\"colorbar\":{\"outlinewidth\":0,\"ticks\":\"\"},\"colorscale\":[[0.0,\"#0d0887\"],[0.1111111111111111,\"#46039f\"],[0.2222222222222222,\"#7201a8\"],[0.3333333333333333,\"#9c179e\"],[0.4444444444444444,\"#bd3786\"],[0.5555555555555556,\"#d8576b\"],[0.6666666666666666,\"#ed7953\"],[0.7777777777777778,\"#fb9f3a\"],[0.8888888888888888,\"#fdca26\"],[1.0,\"#f0f921\"]]}],\"choropleth\":[{\"type\":\"choropleth\",\"colorbar\":{\"outlinewidth\":0,\"ticks\":\"\"}}],\"histogram2d\":[{\"type\":\"histogram2d\",\"colorbar\":{\"outlinewidth\":0,\"ticks\":\"\"},\"colorscale\":[[0.0,\"#0d0887\"],[0.1111111111111111,\"#46039f\"],[0.2222222222222222,\"#7201a8\"],[0.3333333333333333,\"#9c179e\"],[0.4444444444444444,\"#bd3786\"],[0.5555555555555556,\"#d8576b\"],[0.6666666666666666,\"#ed7953\"],[0.7777777777777778,\"#fb9f3a\"],[0.8888888888888888,\"#fdca26\"],[1.0,\"#f0f921\"]]}],\"heatmap\":[{\"type\":\"heatmap\",\"colorbar\":{\"outlinewidth\":0,\"ticks\":\"\"},\"colorscale\":[[0.0,\"#0d0887\"],[0.1111111111111111,\"#46039f\"],[0.2222222222222222,\"#7201a8\"],[0.3333333333333333,\"#9c179e\"],[0.4444444444444444,\"#bd3786\"],[0.5555555555555556,\"#d8576b\"],[0.6666666666666666,\"#ed7953\"],[0.7777777777777778,\"#fb9f3a\"],[0.8888888888888888,\"#fdca26\"],[1.0,\"#f0f921\"]]}],\"heatmapgl\":[{\"type\":\"heatmapgl\",\"colorbar\":{\"outlinewidth\":0,\"ticks\":\"\"},\"colorscale\":[[0.0,\"#0d0887\"],[0.1111111111111111,\"#46039f\"],[0.2222222222222222,\"#7201a8\"],[0.3333333333333333,\"#9c179e\"],[0.4444444444444444,\"#bd3786\"],[0.5555555555555556,\"#d8576b\"],[0.6666666666666666,\"#ed7953\"],[0.7777777777777778,\"#fb9f3a\"],[0.8888888888888888,\"#fdca26\"],[1.0,\"#f0f921\"]]}],\"contourcarpet\":[{\"type\":\"contourcarpet\",\"colorbar\":{\"outlinewidth\":0,\"ticks\":\"\"}}],\"contour\":[{\"type\":\"contour\",\"colorbar\":{\"outlinewidth\":0,\"ticks\":\"\"},\"colorscale\":[[0.0,\"#0d0887\"],[0.1111111111111111,\"#46039f\"],[0.2222222222222222,\"#7201a8\"],[0.3333333333333333,\"#9c179e\"],[0.4444444444444444,\"#bd3786\"],[0.5555555555555556,\"#d8576b\"],[0.6666666666666666,\"#ed7953\"],[0.7777777777777778,\"#fb9f3a\"],[0.8888888888888888,\"#fdca26\"],[1.0,\"#f0f921\"]]}],\"surface\":[{\"type\":\"surface\",\"colorbar\":{\"outlinewidth\":0,\"ticks\":\"\"},\"colorscale\":[[0.0,\"#0d0887\"],[0.1111111111111111,\"#46039f\"],[0.2222222222222222,\"#7201a8\"],[0.3333333333333333,\"#9c179e\"],[0.4444444444444444,\"#bd3786\"],[0.5555555555555556,\"#d8576b\"],[0.6666666666666666,\"#ed7953\"],[0.7777777777777778,\"#fb9f3a\"],[0.8888888888888888,\"#fdca26\"],[1.0,\"#f0f921\"]]}],\"mesh3d\":[{\"type\":\"mesh3d\",\"colorbar\":{\"outlinewidth\":0,\"ticks\":\"\"}}],\"scatter\":[{\"fillpattern\":{\"fillmode\":\"overlay\",\"size\":10,\"solidity\":0.2},\"type\":\"scatter\"}],\"parcoords\":[{\"type\":\"parcoords\",\"line\":{\"colorbar\":{\"outlinewidth\":0,\"ticks\":\"\"}}}],\"scatterpolargl\":[{\"type\":\"scatterpolargl\",\"marker\":{\"colorbar\":{\"outlinewidth\":0,\"ticks\":\"\"}}}],\"bar\":[{\"error_x\":{\"color\":\"#2a3f5f\"},\"error_y\":{\"color\":\"#2a3f5f\"},\"marker\":{\"line\":{\"color\":\"#E5ECF6\",\"width\":0.5},\"pattern\":{\"fillmode\":\"overlay\",\"size\":10,\"solidity\":0.2}},\"type\":\"bar\"}],\"scattergeo\":[{\"type\":\"scattergeo\",\"marker\":{\"colorbar\":{\"outlinewidth\":0,\"ticks\":\"\"}}}],\"scatterpolar\":[{\"type\":\"scatterpolar\",\"marker\":{\"colorbar\":{\"outlinewidth\":0,\"ticks\":\"\"}}}],\"histogram\":[{\"marker\":{\"pattern\":{\"fillmode\":\"overlay\",\"size\":10,\"solidity\":0.2}},\"type\":\"histogram\"}],\"scattergl\":[{\"type\":\"scattergl\",\"marker\":{\"colorbar\":{\"outlinewidth\":0,\"ticks\":\"\"}}}],\"scatter3d\":[{\"type\":\"scatter3d\",\"line\":{\"colorbar\":{\"outlinewidth\":0,\"ticks\":\"\"}},\"marker\":{\"colorbar\":{\"outlinewidth\":0,\"ticks\":\"\"}}}],\"scattermapbox\":[{\"type\":\"scattermapbox\",\"marker\":{\"colorbar\":{\"outlinewidth\":0,\"ticks\":\"\"}}}],\"scatterternary\":[{\"type\":\"scatterternary\",\"marker\":{\"colorbar\":{\"outlinewidth\":0,\"ticks\":\"\"}}}],\"scattercarpet\":[{\"type\":\"scattercarpet\",\"marker\":{\"colorbar\":{\"outlinewidth\":0,\"ticks\":\"\"}}}],\"carpet\":[{\"aaxis\":{\"endlinecolor\":\"#2a3f5f\",\"gridcolor\":\"white\",\"linecolor\":\"white\",\"minorgridcolor\":\"white\",\"startlinecolor\":\"#2a3f5f\"},\"baxis\":{\"endlinecolor\":\"#2a3f5f\",\"gridcolor\":\"white\",\"linecolor\":\"white\",\"minorgridcolor\":\"white\",\"startlinecolor\":\"#2a3f5f\"},\"type\":\"carpet\"}],\"table\":[{\"cells\":{\"fill\":{\"color\":\"#EBF0F8\"},\"line\":{\"color\":\"white\"}},\"header\":{\"fill\":{\"color\":\"#C8D4E3\"},\"line\":{\"color\":\"white\"}},\"type\":\"table\"}],\"barpolar\":[{\"marker\":{\"line\":{\"color\":\"#E5ECF6\",\"width\":0.5},\"pattern\":{\"fillmode\":\"overlay\",\"size\":10,\"solidity\":0.2}},\"type\":\"barpolar\"}],\"pie\":[{\"automargin\":true,\"type\":\"pie\"}]},\"layout\":{\"autotypenumbers\":\"strict\",\"colorway\":[\"#636efa\",\"#EF553B\",\"#00cc96\",\"#ab63fa\",\"#FFA15A\",\"#19d3f3\",\"#FF6692\",\"#B6E880\",\"#FF97FF\",\"#FECB52\"],\"font\":{\"color\":\"#2a3f5f\"},\"hovermode\":\"closest\",\"hoverlabel\":{\"align\":\"left\"},\"paper_bgcolor\":\"white\",\"plot_bgcolor\":\"#E5ECF6\",\"polar\":{\"bgcolor\":\"#E5ECF6\",\"angularaxis\":{\"gridcolor\":\"white\",\"linecolor\":\"white\",\"ticks\":\"\"},\"radialaxis\":{\"gridcolor\":\"white\",\"linecolor\":\"white\",\"ticks\":\"\"}},\"ternary\":{\"bgcolor\":\"#E5ECF6\",\"aaxis\":{\"gridcolor\":\"white\",\"linecolor\":\"white\",\"ticks\":\"\"},\"baxis\":{\"gridcolor\":\"white\",\"linecolor\":\"white\",\"ticks\":\"\"},\"caxis\":{\"gridcolor\":\"white\",\"linecolor\":\"white\",\"ticks\":\"\"}},\"coloraxis\":{\"colorbar\":{\"outlinewidth\":0,\"ticks\":\"\"}},\"colorscale\":{\"sequential\":[[0.0,\"#0d0887\"],[0.1111111111111111,\"#46039f\"],[0.2222222222222222,\"#7201a8\"],[0.3333333333333333,\"#9c179e\"],[0.4444444444444444,\"#bd3786\"],[0.5555555555555556,\"#d8576b\"],[0.6666666666666666,\"#ed7953\"],[0.7777777777777778,\"#fb9f3a\"],[0.8888888888888888,\"#fdca26\"],[1.0,\"#f0f921\"]],\"sequentialminus\":[[0.0,\"#0d0887\"],[0.1111111111111111,\"#46039f\"],[0.2222222222222222,\"#7201a8\"],[0.3333333333333333,\"#9c179e\"],[0.4444444444444444,\"#bd3786\"],[0.5555555555555556,\"#d8576b\"],[0.6666666666666666,\"#ed7953\"],[0.7777777777777778,\"#fb9f3a\"],[0.8888888888888888,\"#fdca26\"],[1.0,\"#f0f921\"]],\"diverging\":[[0,\"#8e0152\"],[0.1,\"#c51b7d\"],[0.2,\"#de77ae\"],[0.3,\"#f1b6da\"],[0.4,\"#fde0ef\"],[0.5,\"#f7f7f7\"],[0.6,\"#e6f5d0\"],[0.7,\"#b8e186\"],[0.8,\"#7fbc41\"],[0.9,\"#4d9221\"],[1,\"#276419\"]]},\"xaxis\":{\"gridcolor\":\"white\",\"linecolor\":\"white\",\"ticks\":\"\",\"title\":{\"standoff\":15},\"zerolinecolor\":\"white\",\"automargin\":true,\"zerolinewidth\":2},\"yaxis\":{\"gridcolor\":\"white\",\"linecolor\":\"white\",\"ticks\":\"\",\"title\":{\"standoff\":15},\"zerolinecolor\":\"white\",\"automargin\":true,\"zerolinewidth\":2},\"scene\":{\"xaxis\":{\"backgroundcolor\":\"#E5ECF6\",\"gridcolor\":\"white\",\"linecolor\":\"white\",\"showbackground\":true,\"ticks\":\"\",\"zerolinecolor\":\"white\",\"gridwidth\":2},\"yaxis\":{\"backgroundcolor\":\"#E5ECF6\",\"gridcolor\":\"white\",\"linecolor\":\"white\",\"showbackground\":true,\"ticks\":\"\",\"zerolinecolor\":\"white\",\"gridwidth\":2},\"zaxis\":{\"backgroundcolor\":\"#E5ECF6\",\"gridcolor\":\"white\",\"linecolor\":\"white\",\"showbackground\":true,\"ticks\":\"\",\"zerolinecolor\":\"white\",\"gridwidth\":2}},\"shapedefaults\":{\"line\":{\"color\":\"#2a3f5f\"}},\"annotationdefaults\":{\"arrowcolor\":\"#2a3f5f\",\"arrowhead\":0,\"arrowwidth\":1},\"geo\":{\"bgcolor\":\"white\",\"landcolor\":\"#E5ECF6\",\"subunitcolor\":\"white\",\"showland\":true,\"showlakes\":true,\"lakecolor\":\"white\"},\"title\":{\"x\":0.05},\"mapbox\":{\"style\":\"light\"}}}},                        {\"responsive\": true}                    ).then(function(){\n",
              "                            \n",
              "var gd = document.getElementById('5c164bb3-5ac1-4ac3-b73a-22716f18011c');\n",
              "var x = new MutationObserver(function (mutations, observer) {{\n",
              "        var display = window.getComputedStyle(gd).display;\n",
              "        if (!display || display === 'none') {{\n",
              "            console.log([gd, 'removed!']);\n",
              "            Plotly.purge(gd);\n",
              "            observer.disconnect();\n",
              "        }}\n",
              "}});\n",
              "\n",
              "// Listen for the removal of the full notebook cells\n",
              "var notebookContainer = gd.closest('#notebook-container');\n",
              "if (notebookContainer) {{\n",
              "    x.observe(notebookContainer, {childList: true});\n",
              "}}\n",
              "\n",
              "// Listen for the clearing of the current output cell\n",
              "var outputEl = gd.closest('.output');\n",
              "if (outputEl) {{\n",
              "    x.observe(outputEl, {childList: true});\n",
              "}}\n",
              "\n",
              "                        })                };                            </script>        </div>\n",
              "</body>\n",
              "</html>"
            ]
          },
          "metadata": {}
        }
      ]
    },
    {
      "cell_type": "markdown",
      "source": [
        "## Test SVC"
      ],
      "metadata": {
        "id": "AmUOcE-Sl4OM"
      }
    },
    {
      "cell_type": "markdown",
      "source": [
        "Now we prepare the test data similar to the training data. This allows us to see, how well the SVC performs."
      ],
      "metadata": {
        "id": "LjzSZbf7qsgo"
      }
    },
    {
      "cell_type": "code",
      "source": [
        "std_test = 0.1\n",
        "test_data = lib.expand_data(X_test, std = std_test, seed = 10)"
      ],
      "metadata": {
        "id": "aLYFmVDaqsQn"
      },
      "execution_count": null,
      "outputs": []
    },
    {
      "cell_type": "markdown",
      "source": [
        "We use estimator.predict to see how well the SVC classifies the unknown points in stress space. "
      ],
      "metadata": {
        "id": "__hBpQDQv45w"
      }
    },
    {
      "cell_type": "code",
      "source": [
        "test_data['classifier_pred'] = estimator.predict(\n",
        "                                test_data[['sxx', 'syy']]) #Prediction"
      ],
      "metadata": {
        "id": "YjpQMFl7l3k6"
      },
      "execution_count": null,
      "outputs": []
    },
    {
      "cell_type": "markdown",
      "source": [
        "The \"score\" method gives us a possibility  to determine the accuracy of the predictions. It is defined by  the number of correctly classified data points with respect to the total number of data points in the test data set. "
      ],
      "metadata": {
        "id": "MBNtZXTcgzQZ"
      }
    },
    {
      "cell_type": "code",
      "source": [
        "accuracy = estimator.score(test_data[['sxx', 'syy']],\n",
        "                           test_data['classifier'])"
      ],
      "metadata": {
        "id": "Mbd6C597iUEN"
      },
      "execution_count": null,
      "outputs": []
    },
    {
      "cell_type": "markdown",
      "source": [
        "## Visualize\n",
        "Visualise the predicted yield stresses together with training data and the 'true' yield surface"
      ],
      "metadata": {
        "id": "iy9JL9fhbUWy"
      }
    },
    {
      "cell_type": "code",
      "source": [
        "lib.plot_train_pred_data(data,\n",
        "                         test_data=test_data, \n",
        "                         title = 'Accuracy: %.2f%%'  %(accuracy*100))"
      ],
      "metadata": {
        "id": "JGNgGb2xbpdm",
        "colab": {
          "base_uri": "https://localhost:8080/",
          "height": 542
        },
        "outputId": "608e8fae-bbbc-499d-990e-2403df9876de"
      },
      "execution_count": null,
      "outputs": [
        {
          "output_type": "display_data",
          "data": {
            "text/html": [
              "<html>\n",
              "<head><meta charset=\"utf-8\" /></head>\n",
              "<body>\n",
              "    <div>            <script src=\"https://cdnjs.cloudflare.com/ajax/libs/mathjax/2.7.5/MathJax.js?config=TeX-AMS-MML_SVG\"></script><script type=\"text/javascript\">if (window.MathJax && window.MathJax.Hub && window.MathJax.Hub.Config) {window.MathJax.Hub.Config({SVG: {font: \"STIX-Web\"}});}</script>                <script type=\"text/javascript\">window.PlotlyConfig = {MathJaxConfig: 'local'};</script>\n",
              "        <script src=\"https://cdn.plot.ly/plotly-2.18.2.min.js\"></script>                <div id=\"1521cbfd-30c5-4c3d-8599-605142e94f2c\" class=\"plotly-graph-div\" style=\"height:525px; width:100%;\"></div>            <script type=\"text/javascript\">                                    window.PLOTLYENV=window.PLOTLYENV || {};                                    if (document.getElementById(\"1521cbfd-30c5-4c3d-8599-605142e94f2c\")) {                    Plotly.newPlot(                        \"1521cbfd-30c5-4c3d-8599-605142e94f2c\",                        [{\"marker\":{\"color\":\"blue\",\"line\":{\"color\":\"blue\",\"width\":2},\"size\":4},\"mode\":\"markers\",\"name\":\"Test elastic\",\"x\":[-18.859893549927392,-19.661875070971536,-19.54150672970367,-20.67188105904466,-20.243266161437024,-20.92703004816264,-21.816912663063533,-21.683351363372644,-22.937620243160765,-22.46202705820561,7.360163581117188,7.673140702026803,7.626166381658878,7.900031353297025,3.2638204970652023,3.402608328487585,3.381777847213245,3.5773960725066574,3.5032216300870336,-0.7741130560227839,-0.8070307585795766,-0.802090184325507,-0.8484869216251845,-0.8308942248601904,-5.532563453074077,-5.767825313997289,-5.732515173776039,-6.064111303215974,-5.938376812102886,-17.119584455824146,-17.847562604013557,-17.738301330683058,-18.375305448836023,-11.28655485816562,-11.766494387439087,-11.694460900966337,-13.024974094747467,-12.37092452174952,-12.846740974334132,-12.114423309689695,19.52627952505159,20.356597857038903,20.23197648145472,21.402290887748915,20.95853152732981,-3.665165564115851,-3.8210198400801794,-3.797627878812909,-4.017300861350879,-3.9340053454552115,21.76239071958733,22.68779547675887,22.548902705916582,23.85323922029765,23.358661409172658,15.093526840489734,15.7353506970991,15.639020206958092,16.54365602765044,16.20063656976492,-20.395372058512745,-21.262646916795827,-21.13247878526713,-22.354882557126707,-21.891371971375666,-21.311722029207115,-22.217962947471435,-22.081946451756515,-23.35927198024336,-22.874936184221532,10.758359522117287,11.215838537608368,11.147176119816216,11.791982168027948,11.547484861996429,-13.923731439548677,-14.515811945673402,-14.426947368935416,-15.261471092319026,-15.848465138204846,-14.945036712163077,-8.857195858587888,-9.233831463028167,-9.177302725421004,-9.708161863198676,-10.08156185692939,-9.506870902251864],\"y\":[6.352895279723612,6.623040209544094,6.582494515845216,6.963257520799652,6.818879952993005,-10.815344331460464,-11.275246518850816,-11.206220410406862,-11.854441863136833,-11.608649505351329,-18.41890511533792,-19.202134432155745,-19.084580584312736,-19.769931238741002,-20.005677493041038,-20.856381322461615,-20.72870031464455,-21.92774760615461,-21.47309332151872,21.55215286849715,22.468617656248817,22.331066673542313,23.622802508640696,23.133002618174686,-21.675573133066454,-22.59728613556785,-22.45894745528046,-23.75808052718828,-23.26547575535212,-17.81454417107061,-18.572074174789975,-18.458377502715003,-19.121240437809746,15.052477506408987,15.692555817249673,15.596487313754576,17.370945522929123,16.498662828223107,17.133242338065955,16.156576268292568,-5.738132933815568,-5.982136250485011,-5.945514116781579,-6.289431125091323,-6.159024807930754,20.372705099525348,21.23901608798604,21.10899262239873,22.330037842127798,21.86704239164407,0.0,0.0,0.0,0.0,0.0,19.52518673307793,20.355458596140757,20.230844195015727,21.401093104440015,20.957358579098514,2.1974370987180256,2.290878980675811,2.276854412726212,2.4085585753269583,2.3586190422870232,-2.2155714559902107,-2.3097844674026673,-2.295644161657463,-2.4284352133164804,-2.378083554107073,21.56800878006125,22.485147810646794,22.34749563172891,23.640181796443574,23.150021560364074,12.767056995594299,13.309952095265922,13.228469690852352,13.993667726082446,14.531898908753236,13.703520233339114,17.213942844241558,17.94593340552683,17.836069914444227,18.867793611418577,19.59349576961218,18.476585022140153],\"type\":\"scatter\"},{\"marker\":{\"color\":\"orange\",\"line\":{\"color\":\"orange\",\"width\":2},\"size\":4},\"mode\":\"markers\",\"name\":\"Test plastic\",\"x\":[-21.764801394623625,-21.46697289688369,-22.985996204522493,-23.017569716751762,-22.206177819851998,-24.1503299884391,-23.819858031908527,-25.505373717278825,-25.54040784074292,-24.64008342680569,8.493817748805592,8.067300365253255,8.37758875436926,8.970394858929398,8.982716572953,8.666067007897624,3.76653265397669,3.714991601904448,3.9778679216390525,3.9833319119900805,3.8429155571870464,-0.8933463424233329,-0.8811218339474074,-0.9434708483643335,-0.9447667977808276,-0.9114628419934624,-6.384720276418206,-6.297352070573465,-6.74295865970729,-6.752220772421892,-6.514198370915531,-19.756440016647538,-18.76436962457983,-19.48609383961783,-20.86494827146525,-20.893608317066512,-20.15708814164907,-13.755788517317937,-13.774683437212218,-13.28911234257232,22.53382791973869,22.225476099936472,23.79817181168602,23.830860926486388,22.990799717164897,-4.229695166105657,-4.171816220445701,-4.467017882295408,-4.473153767922469,-4.315470712519906,25.114357651602017,24.770693986794683,26.523491723721616,26.559924331769164,25.623660962079693,17.418317508422245,17.179966087583086,18.395636738346862,18.420904943229324,17.77154998575876,-23.53678301777556,-23.214706808545987,-24.857401420942956,-24.89154549113111,-24.014094111104807,-24.594274411739917,-24.25772754102684,-25.974227287039966,-26.009905426703618,-25.09303076260747,12.415423115245638,12.24553106118202,13.112036422031046,13.130047085507973,12.667200054209964,-16.068343580604168,-16.969917522333446,-16.993227362535873,-16.394199439353255,-10.22143143412336,-10.794942710002587,-10.809770618814364,-10.428715607560603],\"y\":[7.331404266836841,7.2310816827008075,7.742759862396889,7.753395299774868,7.480080514716587,-12.481185048343585,-12.310393111143524,-13.181488172000373,-13.199594234243467,-12.734295597774675,-21.25588941848987,-20.188524117282768,-20.96502484780746,-22.448529836704584,-22.479365086350573,-21.68694543028055,-23.087065483601645,-22.7711431875267,-24.382450818536707,-24.415942497655102,-23.555256589387827,24.87173777347297,24.53139410743405,26.267258758545392,26.303339405573386,25.376120906065427,-25.014167927668254,-24.671875254234884,-26.41768048417396,-26.45396775014296,-25.52143945382625,-20.558441371509993,-19.526098450692835,-20.277120646430284,-21.711948883354317,-21.74177236707415,-20.975353577429118,18.345606772118245,18.370806255952616,17.72321732632087,-6.6219527353019245,-6.531338251875164,-6.993501924523743,-7.003108182898392,-6.756241754224964,23.51062476511762,23.18890650416202,24.82977546261646,24.863881585850944,23.987405385605005,0.0,0.0,0.0,0.0,0.0,22.532566809743063,22.2242322469095,23.796839942442308,23.829527227790106,22.9895130326551,2.5358988323112723,2.5011977143936845,2.678184830529116,2.681863579135291,2.5873252589095346,-2.5568263462128438,-2.521838857199387,-2.7002865601240584,-2.703995667615855,-2.6086771695748214,24.890035902527075,24.549441845768353,26.286583571915454,26.322690763463243,25.39479010961931,14.73351157403642,15.56018982115531,15.581563262586197,15.032297882797108,19.865332019584088,20.97995006361671,21.008768075418725,20.26818840562695],\"type\":\"scatter\"},{\"marker\":{\"color\":\"green\",\"line\":{\"color\":\"green\",\"width\":2},\"size\":4},\"mode\":\"markers\",\"name\":\"Yield Surface\",\"x\":[24.4613,25.41261495252,23.75850894158,21.2581013391,16.96538274956,12.092580414039999,7.248116428,2.8579689993599997,-0.8701163370000001,-4.11970888533,-7.162803167919999,-9.95563988568,-12.68628102075,-15.65051267808,-18.764399918400002,-21.198843456,-22.92474760532,-23.9547406712,-24.302124542549997,-23.522340294,-21.775221264579997,-19.24270621942,-15.31263818488,-11.05064856758,-6.2186961046,-1.24599041666,3.6685901541599995,8.27294995879,12.115923598090001,15.02187274458,17.52765596455,19.95050917572,21.9478727085,23.226618737589998],\"y\":[0.0,3.9172618477200003,13.305537266249999,18.2063876054,21.946644391600003,24.24281136984,25.38049649044,25.28524163952,24.2249890536,22.89926955509,21.53241030004,19.34876666454,16.9192425948,14.35039078704,11.271743065599999,7.140763131599999,2.46995694524,-2.4903402734899998,-7.4313310778499995,-12.156632316,-16.30112777969,-20.02385284534,-22.24265930708,-23.90078738214,-24.363715545399998,-23.74896783574,-22.48672423752,-20.70316490055,-18.04044379684,-14.883026861040001,-11.986318039580002,-9.288336517640001,-6.44975972275,-3.3259319139700003],\"type\":\"scatter\"}],                        {\"template\":{\"data\":{\"histogram2dcontour\":[{\"type\":\"histogram2dcontour\",\"colorbar\":{\"outlinewidth\":0,\"ticks\":\"\"},\"colorscale\":[[0.0,\"#0d0887\"],[0.1111111111111111,\"#46039f\"],[0.2222222222222222,\"#7201a8\"],[0.3333333333333333,\"#9c179e\"],[0.4444444444444444,\"#bd3786\"],[0.5555555555555556,\"#d8576b\"],[0.6666666666666666,\"#ed7953\"],[0.7777777777777778,\"#fb9f3a\"],[0.8888888888888888,\"#fdca26\"],[1.0,\"#f0f921\"]]}],\"choropleth\":[{\"type\":\"choropleth\",\"colorbar\":{\"outlinewidth\":0,\"ticks\":\"\"}}],\"histogram2d\":[{\"type\":\"histogram2d\",\"colorbar\":{\"outlinewidth\":0,\"ticks\":\"\"},\"colorscale\":[[0.0,\"#0d0887\"],[0.1111111111111111,\"#46039f\"],[0.2222222222222222,\"#7201a8\"],[0.3333333333333333,\"#9c179e\"],[0.4444444444444444,\"#bd3786\"],[0.5555555555555556,\"#d8576b\"],[0.6666666666666666,\"#ed7953\"],[0.7777777777777778,\"#fb9f3a\"],[0.8888888888888888,\"#fdca26\"],[1.0,\"#f0f921\"]]}],\"heatmap\":[{\"type\":\"heatmap\",\"colorbar\":{\"outlinewidth\":0,\"ticks\":\"\"},\"colorscale\":[[0.0,\"#0d0887\"],[0.1111111111111111,\"#46039f\"],[0.2222222222222222,\"#7201a8\"],[0.3333333333333333,\"#9c179e\"],[0.4444444444444444,\"#bd3786\"],[0.5555555555555556,\"#d8576b\"],[0.6666666666666666,\"#ed7953\"],[0.7777777777777778,\"#fb9f3a\"],[0.8888888888888888,\"#fdca26\"],[1.0,\"#f0f921\"]]}],\"heatmapgl\":[{\"type\":\"heatmapgl\",\"colorbar\":{\"outlinewidth\":0,\"ticks\":\"\"},\"colorscale\":[[0.0,\"#0d0887\"],[0.1111111111111111,\"#46039f\"],[0.2222222222222222,\"#7201a8\"],[0.3333333333333333,\"#9c179e\"],[0.4444444444444444,\"#bd3786\"],[0.5555555555555556,\"#d8576b\"],[0.6666666666666666,\"#ed7953\"],[0.7777777777777778,\"#fb9f3a\"],[0.8888888888888888,\"#fdca26\"],[1.0,\"#f0f921\"]]}],\"contourcarpet\":[{\"type\":\"contourcarpet\",\"colorbar\":{\"outlinewidth\":0,\"ticks\":\"\"}}],\"contour\":[{\"type\":\"contour\",\"colorbar\":{\"outlinewidth\":0,\"ticks\":\"\"},\"colorscale\":[[0.0,\"#0d0887\"],[0.1111111111111111,\"#46039f\"],[0.2222222222222222,\"#7201a8\"],[0.3333333333333333,\"#9c179e\"],[0.4444444444444444,\"#bd3786\"],[0.5555555555555556,\"#d8576b\"],[0.6666666666666666,\"#ed7953\"],[0.7777777777777778,\"#fb9f3a\"],[0.8888888888888888,\"#fdca26\"],[1.0,\"#f0f921\"]]}],\"surface\":[{\"type\":\"surface\",\"colorbar\":{\"outlinewidth\":0,\"ticks\":\"\"},\"colorscale\":[[0.0,\"#0d0887\"],[0.1111111111111111,\"#46039f\"],[0.2222222222222222,\"#7201a8\"],[0.3333333333333333,\"#9c179e\"],[0.4444444444444444,\"#bd3786\"],[0.5555555555555556,\"#d8576b\"],[0.6666666666666666,\"#ed7953\"],[0.7777777777777778,\"#fb9f3a\"],[0.8888888888888888,\"#fdca26\"],[1.0,\"#f0f921\"]]}],\"mesh3d\":[{\"type\":\"mesh3d\",\"colorbar\":{\"outlinewidth\":0,\"ticks\":\"\"}}],\"scatter\":[{\"fillpattern\":{\"fillmode\":\"overlay\",\"size\":10,\"solidity\":0.2},\"type\":\"scatter\"}],\"parcoords\":[{\"type\":\"parcoords\",\"line\":{\"colorbar\":{\"outlinewidth\":0,\"ticks\":\"\"}}}],\"scatterpolargl\":[{\"type\":\"scatterpolargl\",\"marker\":{\"colorbar\":{\"outlinewidth\":0,\"ticks\":\"\"}}}],\"bar\":[{\"error_x\":{\"color\":\"#2a3f5f\"},\"error_y\":{\"color\":\"#2a3f5f\"},\"marker\":{\"line\":{\"color\":\"#E5ECF6\",\"width\":0.5},\"pattern\":{\"fillmode\":\"overlay\",\"size\":10,\"solidity\":0.2}},\"type\":\"bar\"}],\"scattergeo\":[{\"type\":\"scattergeo\",\"marker\":{\"colorbar\":{\"outlinewidth\":0,\"ticks\":\"\"}}}],\"scatterpolar\":[{\"type\":\"scatterpolar\",\"marker\":{\"colorbar\":{\"outlinewidth\":0,\"ticks\":\"\"}}}],\"histogram\":[{\"marker\":{\"pattern\":{\"fillmode\":\"overlay\",\"size\":10,\"solidity\":0.2}},\"type\":\"histogram\"}],\"scattergl\":[{\"type\":\"scattergl\",\"marker\":{\"colorbar\":{\"outlinewidth\":0,\"ticks\":\"\"}}}],\"scatter3d\":[{\"type\":\"scatter3d\",\"line\":{\"colorbar\":{\"outlinewidth\":0,\"ticks\":\"\"}},\"marker\":{\"colorbar\":{\"outlinewidth\":0,\"ticks\":\"\"}}}],\"scattermapbox\":[{\"type\":\"scattermapbox\",\"marker\":{\"colorbar\":{\"outlinewidth\":0,\"ticks\":\"\"}}}],\"scatterternary\":[{\"type\":\"scatterternary\",\"marker\":{\"colorbar\":{\"outlinewidth\":0,\"ticks\":\"\"}}}],\"scattercarpet\":[{\"type\":\"scattercarpet\",\"marker\":{\"colorbar\":{\"outlinewidth\":0,\"ticks\":\"\"}}}],\"carpet\":[{\"aaxis\":{\"endlinecolor\":\"#2a3f5f\",\"gridcolor\":\"white\",\"linecolor\":\"white\",\"minorgridcolor\":\"white\",\"startlinecolor\":\"#2a3f5f\"},\"baxis\":{\"endlinecolor\":\"#2a3f5f\",\"gridcolor\":\"white\",\"linecolor\":\"white\",\"minorgridcolor\":\"white\",\"startlinecolor\":\"#2a3f5f\"},\"type\":\"carpet\"}],\"table\":[{\"cells\":{\"fill\":{\"color\":\"#EBF0F8\"},\"line\":{\"color\":\"white\"}},\"header\":{\"fill\":{\"color\":\"#C8D4E3\"},\"line\":{\"color\":\"white\"}},\"type\":\"table\"}],\"barpolar\":[{\"marker\":{\"line\":{\"color\":\"#E5ECF6\",\"width\":0.5},\"pattern\":{\"fillmode\":\"overlay\",\"size\":10,\"solidity\":0.2}},\"type\":\"barpolar\"}],\"pie\":[{\"automargin\":true,\"type\":\"pie\"}]},\"layout\":{\"autotypenumbers\":\"strict\",\"colorway\":[\"#636efa\",\"#EF553B\",\"#00cc96\",\"#ab63fa\",\"#FFA15A\",\"#19d3f3\",\"#FF6692\",\"#B6E880\",\"#FF97FF\",\"#FECB52\"],\"font\":{\"color\":\"#2a3f5f\"},\"hovermode\":\"closest\",\"hoverlabel\":{\"align\":\"left\"},\"paper_bgcolor\":\"white\",\"plot_bgcolor\":\"#E5ECF6\",\"polar\":{\"bgcolor\":\"#E5ECF6\",\"angularaxis\":{\"gridcolor\":\"white\",\"linecolor\":\"white\",\"ticks\":\"\"},\"radialaxis\":{\"gridcolor\":\"white\",\"linecolor\":\"white\",\"ticks\":\"\"}},\"ternary\":{\"bgcolor\":\"#E5ECF6\",\"aaxis\":{\"gridcolor\":\"white\",\"linecolor\":\"white\",\"ticks\":\"\"},\"baxis\":{\"gridcolor\":\"white\",\"linecolor\":\"white\",\"ticks\":\"\"},\"caxis\":{\"gridcolor\":\"white\",\"linecolor\":\"white\",\"ticks\":\"\"}},\"coloraxis\":{\"colorbar\":{\"outlinewidth\":0,\"ticks\":\"\"}},\"colorscale\":{\"sequential\":[[0.0,\"#0d0887\"],[0.1111111111111111,\"#46039f\"],[0.2222222222222222,\"#7201a8\"],[0.3333333333333333,\"#9c179e\"],[0.4444444444444444,\"#bd3786\"],[0.5555555555555556,\"#d8576b\"],[0.6666666666666666,\"#ed7953\"],[0.7777777777777778,\"#fb9f3a\"],[0.8888888888888888,\"#fdca26\"],[1.0,\"#f0f921\"]],\"sequentialminus\":[[0.0,\"#0d0887\"],[0.1111111111111111,\"#46039f\"],[0.2222222222222222,\"#7201a8\"],[0.3333333333333333,\"#9c179e\"],[0.4444444444444444,\"#bd3786\"],[0.5555555555555556,\"#d8576b\"],[0.6666666666666666,\"#ed7953\"],[0.7777777777777778,\"#fb9f3a\"],[0.8888888888888888,\"#fdca26\"],[1.0,\"#f0f921\"]],\"diverging\":[[0,\"#8e0152\"],[0.1,\"#c51b7d\"],[0.2,\"#de77ae\"],[0.3,\"#f1b6da\"],[0.4,\"#fde0ef\"],[0.5,\"#f7f7f7\"],[0.6,\"#e6f5d0\"],[0.7,\"#b8e186\"],[0.8,\"#7fbc41\"],[0.9,\"#4d9221\"],[1,\"#276419\"]]},\"xaxis\":{\"gridcolor\":\"white\",\"linecolor\":\"white\",\"ticks\":\"\",\"title\":{\"standoff\":15},\"zerolinecolor\":\"white\",\"automargin\":true,\"zerolinewidth\":2},\"yaxis\":{\"gridcolor\":\"white\",\"linecolor\":\"white\",\"ticks\":\"\",\"title\":{\"standoff\":15},\"zerolinecolor\":\"white\",\"automargin\":true,\"zerolinewidth\":2},\"scene\":{\"xaxis\":{\"backgroundcolor\":\"#E5ECF6\",\"gridcolor\":\"white\",\"linecolor\":\"white\",\"showbackground\":true,\"ticks\":\"\",\"zerolinecolor\":\"white\",\"gridwidth\":2},\"yaxis\":{\"backgroundcolor\":\"#E5ECF6\",\"gridcolor\":\"white\",\"linecolor\":\"white\",\"showbackground\":true,\"ticks\":\"\",\"zerolinecolor\":\"white\",\"gridwidth\":2},\"zaxis\":{\"backgroundcolor\":\"#E5ECF6\",\"gridcolor\":\"white\",\"linecolor\":\"white\",\"showbackground\":true,\"ticks\":\"\",\"zerolinecolor\":\"white\",\"gridwidth\":2}},\"shapedefaults\":{\"line\":{\"color\":\"#2a3f5f\"}},\"annotationdefaults\":{\"arrowcolor\":\"#2a3f5f\",\"arrowhead\":0,\"arrowwidth\":1},\"geo\":{\"bgcolor\":\"white\",\"landcolor\":\"#E5ECF6\",\"subunitcolor\":\"white\",\"showland\":true,\"showlakes\":true,\"lakecolor\":\"white\"},\"title\":{\"x\":0.05},\"mapbox\":{\"style\":\"light\"}}},\"title\":{\"text\":\"Accuracy: 96.47%\"},\"xaxis\":{\"title\":{\"text\":\"sxx [MPa]\"}},\"yaxis\":{\"title\":{\"text\":\"syy [MPa]\"}}},                        {\"responsive\": true}                    ).then(function(){\n",
              "                            \n",
              "var gd = document.getElementById('1521cbfd-30c5-4c3d-8599-605142e94f2c');\n",
              "var x = new MutationObserver(function (mutations, observer) {{\n",
              "        var display = window.getComputedStyle(gd).display;\n",
              "        if (!display || display === 'none') {{\n",
              "            console.log([gd, 'removed!']);\n",
              "            Plotly.purge(gd);\n",
              "            observer.disconnect();\n",
              "        }}\n",
              "}});\n",
              "\n",
              "// Listen for the removal of the full notebook cells\n",
              "var notebookContainer = gd.closest('#notebook-container');\n",
              "if (notebookContainer) {{\n",
              "    x.observe(notebookContainer, {childList: true});\n",
              "}}\n",
              "\n",
              "// Listen for the clearing of the current output cell\n",
              "var outputEl = gd.closest('.output');\n",
              "if (outputEl) {{\n",
              "    x.observe(outputEl, {childList: true});\n",
              "}}\n",
              "\n",
              "                        })                };                            </script>        </div>\n",
              "</body>\n",
              "</html>"
            ]
          },
          "metadata": {}
        }
      ]
    },
    {
      "cell_type": "markdown",
      "source": [
        "# 5. Determine Yield Stresses from SVC \n"
      ],
      "metadata": {
        "id": "-eu1ugDq2RYY"
      }
    },
    {
      "cell_type": "markdown",
      "source": [
        "From the pure classification we get and idea of the yield stresses but we can't determine it directly. When we determine it from the testing data, we are always limited by the distribution we chose to define the points in stress space (e.g. normal distribution above). Instead, we can define points by iterating the equivalent stress towards the yield stress.  Thus the yield stress can be defined by choosing the lower limit in the elastic and the upper limit in the plastic regime and applying iterative methods (e.g. brentq or biscetion method)."
      ],
      "metadata": {
        "id": "pZFCc3jb2WI1"
      }
    },
    {
      "cell_type": "markdown",
      "source": [
        "##  Define load case "
      ],
      "metadata": {
        "id": "i7ZfWrOK9fA1"
      }
    },
    {
      "cell_type": "code",
      "source": [
        "import numpy as np\n",
        "sx = 19.7\n",
        "sy = 7.38\n",
        "norm = np.linalg.norm([sx, sy])\n",
        "print(sx/norm, sy/norm)\n",
        "test_load_case = pd.DataFrame()\n",
        "test_load_case['sxx'] = [sx]\n",
        "test_load_case['syy'] = [sy]"
      ],
      "metadata": {
        "id": "sq0yNhy0-M0L",
        "colab": {
          "base_uri": "https://localhost:8080/"
        },
        "outputId": "879698a8-1743-49c1-eab5-7c1b718d5b2a"
      },
      "execution_count": null,
      "outputs": [
        {
          "output_type": "stream",
          "name": "stdout",
          "text": [
            "0.9364463358448105 0.35081086083932495\n"
          ]
        }
      ]
    },
    {
      "cell_type": "markdown",
      "source": [
        "## Predict yield stress using iterative method"
      ],
      "metadata": {
        "id": "iQQFIDpV-RaY"
      }
    },
    {
      "cell_type": "code",
      "source": [
        "load_case = test_load_case[['sxx',\n",
        "                            'syy']]\n",
        "yield_stress = lib.predict_YS_SVC(load_case, estimator)\n",
        "test_load_case['sYx'] = test_load_case['sxx']*yield_stress\n",
        "test_load_case['sYy'] = test_load_case['syy']*yield_stress"
      ],
      "metadata": {
        "id": "pWVV1z6146KV"
      },
      "execution_count": null,
      "outputs": []
    },
    {
      "cell_type": "markdown",
      "source": [
        "##Visualise\n",
        "To check whether the predicted yield stress is meaningful, compare it to the yield stress you predicted in 2.2e). Furthermore it is plotted below to compare it to the full 2D yield locus (surface).\n"
      ],
      "metadata": {
        "id": "X2un7zht732A"
      }
    },
    {
      "cell_type": "code",
      "source": [
        "lib.plot_train_pred_data(data, \n",
        "                         pred_Y = test_load_case, \n",
        "                         title = \"Yield Stress: %.2f MPa\" %yield_stress)"
      ],
      "metadata": {
        "colab": {
          "base_uri": "https://localhost:8080/",
          "height": 542
        },
        "id": "LH4gEuoC73c9",
        "outputId": "5c934211-cbf9-4b42-c30d-e599a00f8a96"
      },
      "execution_count": null,
      "outputs": [
        {
          "output_type": "display_data",
          "data": {
            "text/html": [
              "<html>\n",
              "<head><meta charset=\"utf-8\" /></head>\n",
              "<body>\n",
              "    <div>            <script src=\"https://cdnjs.cloudflare.com/ajax/libs/mathjax/2.7.5/MathJax.js?config=TeX-AMS-MML_SVG\"></script><script type=\"text/javascript\">if (window.MathJax && window.MathJax.Hub && window.MathJax.Hub.Config) {window.MathJax.Hub.Config({SVG: {font: \"STIX-Web\"}});}</script>                <script type=\"text/javascript\">window.PlotlyConfig = {MathJaxConfig: 'local'};</script>\n",
              "        <script src=\"https://cdn.plot.ly/plotly-2.18.2.min.js\"></script>                <div id=\"a9b51ee1-bbba-4957-9297-75705d70d3f2\" class=\"plotly-graph-div\" style=\"height:525px; width:100%;\"></div>            <script type=\"text/javascript\">                                    window.PLOTLYENV=window.PLOTLYENV || {};                                    if (document.getElementById(\"a9b51ee1-bbba-4957-9297-75705d70d3f2\")) {                    Plotly.newPlot(                        \"a9b51ee1-bbba-4957-9297-75705d70d3f2\",                        [{\"marker\":{\"color\":\"black\"},\"mode\":\"markers\",\"name\":\"Predicted Yield Stress\",\"x\":[24.70391279261379],\"y\":[9.254562254288821],\"type\":\"scatter\"},{\"marker\":{\"color\":\"green\",\"line\":{\"color\":\"green\",\"width\":2},\"size\":4},\"mode\":\"markers\",\"name\":\"Yield Surface\",\"x\":[24.4613,25.41261495252,23.75850894158,21.2581013391,16.96538274956,12.092580414039999,7.248116428,2.8579689993599997,-0.8701163370000001,-4.11970888533,-7.162803167919999,-9.95563988568,-12.68628102075,-15.65051267808,-18.764399918400002,-21.198843456,-22.92474760532,-23.9547406712,-24.302124542549997,-23.522340294,-21.775221264579997,-19.24270621942,-15.31263818488,-11.05064856758,-6.2186961046,-1.24599041666,3.6685901541599995,8.27294995879,12.115923598090001,15.02187274458,17.52765596455,19.95050917572,21.9478727085,23.226618737589998],\"y\":[0.0,3.9172618477200003,13.305537266249999,18.2063876054,21.946644391600003,24.24281136984,25.38049649044,25.28524163952,24.2249890536,22.89926955509,21.53241030004,19.34876666454,16.9192425948,14.35039078704,11.271743065599999,7.140763131599999,2.46995694524,-2.4903402734899998,-7.4313310778499995,-12.156632316,-16.30112777969,-20.02385284534,-22.24265930708,-23.90078738214,-24.363715545399998,-23.74896783574,-22.48672423752,-20.70316490055,-18.04044379684,-14.883026861040001,-11.986318039580002,-9.288336517640001,-6.44975972275,-3.3259319139700003],\"type\":\"scatter\"}],                        {\"template\":{\"data\":{\"histogram2dcontour\":[{\"type\":\"histogram2dcontour\",\"colorbar\":{\"outlinewidth\":0,\"ticks\":\"\"},\"colorscale\":[[0.0,\"#0d0887\"],[0.1111111111111111,\"#46039f\"],[0.2222222222222222,\"#7201a8\"],[0.3333333333333333,\"#9c179e\"],[0.4444444444444444,\"#bd3786\"],[0.5555555555555556,\"#d8576b\"],[0.6666666666666666,\"#ed7953\"],[0.7777777777777778,\"#fb9f3a\"],[0.8888888888888888,\"#fdca26\"],[1.0,\"#f0f921\"]]}],\"choropleth\":[{\"type\":\"choropleth\",\"colorbar\":{\"outlinewidth\":0,\"ticks\":\"\"}}],\"histogram2d\":[{\"type\":\"histogram2d\",\"colorbar\":{\"outlinewidth\":0,\"ticks\":\"\"},\"colorscale\":[[0.0,\"#0d0887\"],[0.1111111111111111,\"#46039f\"],[0.2222222222222222,\"#7201a8\"],[0.3333333333333333,\"#9c179e\"],[0.4444444444444444,\"#bd3786\"],[0.5555555555555556,\"#d8576b\"],[0.6666666666666666,\"#ed7953\"],[0.7777777777777778,\"#fb9f3a\"],[0.8888888888888888,\"#fdca26\"],[1.0,\"#f0f921\"]]}],\"heatmap\":[{\"type\":\"heatmap\",\"colorbar\":{\"outlinewidth\":0,\"ticks\":\"\"},\"colorscale\":[[0.0,\"#0d0887\"],[0.1111111111111111,\"#46039f\"],[0.2222222222222222,\"#7201a8\"],[0.3333333333333333,\"#9c179e\"],[0.4444444444444444,\"#bd3786\"],[0.5555555555555556,\"#d8576b\"],[0.6666666666666666,\"#ed7953\"],[0.7777777777777778,\"#fb9f3a\"],[0.8888888888888888,\"#fdca26\"],[1.0,\"#f0f921\"]]}],\"heatmapgl\":[{\"type\":\"heatmapgl\",\"colorbar\":{\"outlinewidth\":0,\"ticks\":\"\"},\"colorscale\":[[0.0,\"#0d0887\"],[0.1111111111111111,\"#46039f\"],[0.2222222222222222,\"#7201a8\"],[0.3333333333333333,\"#9c179e\"],[0.4444444444444444,\"#bd3786\"],[0.5555555555555556,\"#d8576b\"],[0.6666666666666666,\"#ed7953\"],[0.7777777777777778,\"#fb9f3a\"],[0.8888888888888888,\"#fdca26\"],[1.0,\"#f0f921\"]]}],\"contourcarpet\":[{\"type\":\"contourcarpet\",\"colorbar\":{\"outlinewidth\":0,\"ticks\":\"\"}}],\"contour\":[{\"type\":\"contour\",\"colorbar\":{\"outlinewidth\":0,\"ticks\":\"\"},\"colorscale\":[[0.0,\"#0d0887\"],[0.1111111111111111,\"#46039f\"],[0.2222222222222222,\"#7201a8\"],[0.3333333333333333,\"#9c179e\"],[0.4444444444444444,\"#bd3786\"],[0.5555555555555556,\"#d8576b\"],[0.6666666666666666,\"#ed7953\"],[0.7777777777777778,\"#fb9f3a\"],[0.8888888888888888,\"#fdca26\"],[1.0,\"#f0f921\"]]}],\"surface\":[{\"type\":\"surface\",\"colorbar\":{\"outlinewidth\":0,\"ticks\":\"\"},\"colorscale\":[[0.0,\"#0d0887\"],[0.1111111111111111,\"#46039f\"],[0.2222222222222222,\"#7201a8\"],[0.3333333333333333,\"#9c179e\"],[0.4444444444444444,\"#bd3786\"],[0.5555555555555556,\"#d8576b\"],[0.6666666666666666,\"#ed7953\"],[0.7777777777777778,\"#fb9f3a\"],[0.8888888888888888,\"#fdca26\"],[1.0,\"#f0f921\"]]}],\"mesh3d\":[{\"type\":\"mesh3d\",\"colorbar\":{\"outlinewidth\":0,\"ticks\":\"\"}}],\"scatter\":[{\"fillpattern\":{\"fillmode\":\"overlay\",\"size\":10,\"solidity\":0.2},\"type\":\"scatter\"}],\"parcoords\":[{\"type\":\"parcoords\",\"line\":{\"colorbar\":{\"outlinewidth\":0,\"ticks\":\"\"}}}],\"scatterpolargl\":[{\"type\":\"scatterpolargl\",\"marker\":{\"colorbar\":{\"outlinewidth\":0,\"ticks\":\"\"}}}],\"bar\":[{\"error_x\":{\"color\":\"#2a3f5f\"},\"error_y\":{\"color\":\"#2a3f5f\"},\"marker\":{\"line\":{\"color\":\"#E5ECF6\",\"width\":0.5},\"pattern\":{\"fillmode\":\"overlay\",\"size\":10,\"solidity\":0.2}},\"type\":\"bar\"}],\"scattergeo\":[{\"type\":\"scattergeo\",\"marker\":{\"colorbar\":{\"outlinewidth\":0,\"ticks\":\"\"}}}],\"scatterpolar\":[{\"type\":\"scatterpolar\",\"marker\":{\"colorbar\":{\"outlinewidth\":0,\"ticks\":\"\"}}}],\"histogram\":[{\"marker\":{\"pattern\":{\"fillmode\":\"overlay\",\"size\":10,\"solidity\":0.2}},\"type\":\"histogram\"}],\"scattergl\":[{\"type\":\"scattergl\",\"marker\":{\"colorbar\":{\"outlinewidth\":0,\"ticks\":\"\"}}}],\"scatter3d\":[{\"type\":\"scatter3d\",\"line\":{\"colorbar\":{\"outlinewidth\":0,\"ticks\":\"\"}},\"marker\":{\"colorbar\":{\"outlinewidth\":0,\"ticks\":\"\"}}}],\"scattermapbox\":[{\"type\":\"scattermapbox\",\"marker\":{\"colorbar\":{\"outlinewidth\":0,\"ticks\":\"\"}}}],\"scatterternary\":[{\"type\":\"scatterternary\",\"marker\":{\"colorbar\":{\"outlinewidth\":0,\"ticks\":\"\"}}}],\"scattercarpet\":[{\"type\":\"scattercarpet\",\"marker\":{\"colorbar\":{\"outlinewidth\":0,\"ticks\":\"\"}}}],\"carpet\":[{\"aaxis\":{\"endlinecolor\":\"#2a3f5f\",\"gridcolor\":\"white\",\"linecolor\":\"white\",\"minorgridcolor\":\"white\",\"startlinecolor\":\"#2a3f5f\"},\"baxis\":{\"endlinecolor\":\"#2a3f5f\",\"gridcolor\":\"white\",\"linecolor\":\"white\",\"minorgridcolor\":\"white\",\"startlinecolor\":\"#2a3f5f\"},\"type\":\"carpet\"}],\"table\":[{\"cells\":{\"fill\":{\"color\":\"#EBF0F8\"},\"line\":{\"color\":\"white\"}},\"header\":{\"fill\":{\"color\":\"#C8D4E3\"},\"line\":{\"color\":\"white\"}},\"type\":\"table\"}],\"barpolar\":[{\"marker\":{\"line\":{\"color\":\"#E5ECF6\",\"width\":0.5},\"pattern\":{\"fillmode\":\"overlay\",\"size\":10,\"solidity\":0.2}},\"type\":\"barpolar\"}],\"pie\":[{\"automargin\":true,\"type\":\"pie\"}]},\"layout\":{\"autotypenumbers\":\"strict\",\"colorway\":[\"#636efa\",\"#EF553B\",\"#00cc96\",\"#ab63fa\",\"#FFA15A\",\"#19d3f3\",\"#FF6692\",\"#B6E880\",\"#FF97FF\",\"#FECB52\"],\"font\":{\"color\":\"#2a3f5f\"},\"hovermode\":\"closest\",\"hoverlabel\":{\"align\":\"left\"},\"paper_bgcolor\":\"white\",\"plot_bgcolor\":\"#E5ECF6\",\"polar\":{\"bgcolor\":\"#E5ECF6\",\"angularaxis\":{\"gridcolor\":\"white\",\"linecolor\":\"white\",\"ticks\":\"\"},\"radialaxis\":{\"gridcolor\":\"white\",\"linecolor\":\"white\",\"ticks\":\"\"}},\"ternary\":{\"bgcolor\":\"#E5ECF6\",\"aaxis\":{\"gridcolor\":\"white\",\"linecolor\":\"white\",\"ticks\":\"\"},\"baxis\":{\"gridcolor\":\"white\",\"linecolor\":\"white\",\"ticks\":\"\"},\"caxis\":{\"gridcolor\":\"white\",\"linecolor\":\"white\",\"ticks\":\"\"}},\"coloraxis\":{\"colorbar\":{\"outlinewidth\":0,\"ticks\":\"\"}},\"colorscale\":{\"sequential\":[[0.0,\"#0d0887\"],[0.1111111111111111,\"#46039f\"],[0.2222222222222222,\"#7201a8\"],[0.3333333333333333,\"#9c179e\"],[0.4444444444444444,\"#bd3786\"],[0.5555555555555556,\"#d8576b\"],[0.6666666666666666,\"#ed7953\"],[0.7777777777777778,\"#fb9f3a\"],[0.8888888888888888,\"#fdca26\"],[1.0,\"#f0f921\"]],\"sequentialminus\":[[0.0,\"#0d0887\"],[0.1111111111111111,\"#46039f\"],[0.2222222222222222,\"#7201a8\"],[0.3333333333333333,\"#9c179e\"],[0.4444444444444444,\"#bd3786\"],[0.5555555555555556,\"#d8576b\"],[0.6666666666666666,\"#ed7953\"],[0.7777777777777778,\"#fb9f3a\"],[0.8888888888888888,\"#fdca26\"],[1.0,\"#f0f921\"]],\"diverging\":[[0,\"#8e0152\"],[0.1,\"#c51b7d\"],[0.2,\"#de77ae\"],[0.3,\"#f1b6da\"],[0.4,\"#fde0ef\"],[0.5,\"#f7f7f7\"],[0.6,\"#e6f5d0\"],[0.7,\"#b8e186\"],[0.8,\"#7fbc41\"],[0.9,\"#4d9221\"],[1,\"#276419\"]]},\"xaxis\":{\"gridcolor\":\"white\",\"linecolor\":\"white\",\"ticks\":\"\",\"title\":{\"standoff\":15},\"zerolinecolor\":\"white\",\"automargin\":true,\"zerolinewidth\":2},\"yaxis\":{\"gridcolor\":\"white\",\"linecolor\":\"white\",\"ticks\":\"\",\"title\":{\"standoff\":15},\"zerolinecolor\":\"white\",\"automargin\":true,\"zerolinewidth\":2},\"scene\":{\"xaxis\":{\"backgroundcolor\":\"#E5ECF6\",\"gridcolor\":\"white\",\"linecolor\":\"white\",\"showbackground\":true,\"ticks\":\"\",\"zerolinecolor\":\"white\",\"gridwidth\":2},\"yaxis\":{\"backgroundcolor\":\"#E5ECF6\",\"gridcolor\":\"white\",\"linecolor\":\"white\",\"showbackground\":true,\"ticks\":\"\",\"zerolinecolor\":\"white\",\"gridwidth\":2},\"zaxis\":{\"backgroundcolor\":\"#E5ECF6\",\"gridcolor\":\"white\",\"linecolor\":\"white\",\"showbackground\":true,\"ticks\":\"\",\"zerolinecolor\":\"white\",\"gridwidth\":2}},\"shapedefaults\":{\"line\":{\"color\":\"#2a3f5f\"}},\"annotationdefaults\":{\"arrowcolor\":\"#2a3f5f\",\"arrowhead\":0,\"arrowwidth\":1},\"geo\":{\"bgcolor\":\"white\",\"landcolor\":\"#E5ECF6\",\"subunitcolor\":\"white\",\"showland\":true,\"showlakes\":true,\"lakecolor\":\"white\"},\"title\":{\"x\":0.05},\"mapbox\":{\"style\":\"light\"}}},\"title\":{\"text\":\"Yield Stress: 1.25 MPa\"},\"xaxis\":{\"title\":{\"text\":\"sxx [MPa]\"}},\"yaxis\":{\"title\":{\"text\":\"syy [MPa]\"}}},                        {\"responsive\": true}                    ).then(function(){\n",
              "                            \n",
              "var gd = document.getElementById('a9b51ee1-bbba-4957-9297-75705d70d3f2');\n",
              "var x = new MutationObserver(function (mutations, observer) {{\n",
              "        var display = window.getComputedStyle(gd).display;\n",
              "        if (!display || display === 'none') {{\n",
              "            console.log([gd, 'removed!']);\n",
              "            Plotly.purge(gd);\n",
              "            observer.disconnect();\n",
              "        }}\n",
              "}});\n",
              "\n",
              "// Listen for the removal of the full notebook cells\n",
              "var notebookContainer = gd.closest('#notebook-container');\n",
              "if (notebookContainer) {{\n",
              "    x.observe(notebookContainer, {childList: true});\n",
              "}}\n",
              "\n",
              "// Listen for the clearing of the current output cell\n",
              "var outputEl = gd.closest('.output');\n",
              "if (outputEl) {{\n",
              "    x.observe(outputEl, {childList: true});\n",
              "}}\n",
              "\n",
              "                        })                };                            </script>        </div>\n",
              "</body>\n",
              "</html>"
            ]
          },
          "metadata": {}
        }
      ]
    }
  ],
  "metadata": {
    "kernelspec": {
      "display_name": "Python 3",
      "language": "python",
      "name": "python3"
    },
    "language_info": {
      "codemirror_mode": {
        "name": "ipython",
        "version": 3
      },
      "file_extension": ".py",
      "mimetype": "text/x-python",
      "name": "python",
      "nbconvert_exporter": "python",
      "pygments_lexer": "ipython3",
      "version": "3.9.7"
    },
    "orig_nbformat": 4,
    "colab": {
      "provenance": [],
      "collapsed_sections": [
        "i7ZfWrOK9fA1",
        "iQQFIDpV-RaY",
        "X2un7zht732A"
      ],
      "toc_visible": true
    }
  },
  "nbformat": 4,
  "nbformat_minor": 0
}